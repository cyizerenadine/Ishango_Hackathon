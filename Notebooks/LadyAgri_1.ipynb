{
  "cells": [
    {
      "cell_type": "markdown",
      "metadata": {
        "id": "F7uLpSrdSNfD"
      },
      "source": [
        "## Libraries"
      ]
    },
    {
      "cell_type": "code",
      "execution_count": 1,
      "metadata": {
        "colab": {
          "base_uri": "https://localhost:8080/"
        },
        "id": "3tm-qeBTgpI9",
        "outputId": "4c3dad50-9ecb-4f39-e4df-32a88f804143"
      },
      "outputs": [
        {
          "output_type": "stream",
          "name": "stderr",
          "text": [
            "[nltk_data] Downloading package stopwords to /root/nltk_data...\n",
            "[nltk_data]   Unzipping corpora/stopwords.zip.\n",
            "[nltk_data] Downloading package punkt to /root/nltk_data...\n",
            "[nltk_data]   Unzipping tokenizers/punkt.zip.\n"
          ]
        },
        {
          "output_type": "execute_result",
          "data": {
            "text/plain": [
              "True"
            ]
          },
          "metadata": {},
          "execution_count": 1
        }
      ],
      "source": [
        "import nltk\n",
        "nltk.download('stopwords')\n",
        "from nltk.corpus import stopwords\n",
        "STOPWORDS = set(stopwords.words('french'))\n",
        "import nltk\n",
        "nltk.download('punkt')"
      ]
    },
    {
      "cell_type": "code",
      "execution_count": 2,
      "metadata": {
        "id": "ArK35b2UIr-V"
      },
      "outputs": [],
      "source": [
        "import pandas as pd\n",
        "import io\n",
        "import string\n",
        "import numpy as np\n",
        "import re\n",
        "from google.colab import files\n",
        "\n",
        "\n",
        "from nltk.corpus import stopwords\n",
        "from nltk.stem import SnowballStemmer\n",
        "from nltk.tokenize import word_tokenize\n",
        "from nltk.corpus import stopwords\n",
        "from nltk import FreqDist\n",
        "from nltk.stem import WordNetLemmatizer\n",
        "from nltk.probability import FreqDist\n",
        "\n",
        "from gensim import corpora\n",
        "from gensim.models import LdaModel\n",
        "from gensim.corpora import Dictionary\n",
        "\n",
        "from datetime import datetime\n",
        "\n",
        "import matplotlib.pyplot as plt\n",
        "\n",
        "from sklearn.feature_extraction.text import TfidfVectorizer\n",
        "from sklearn.decomposition import LatentDirichletAllocation\n",
        "from sklearn.metrics.pairwise import cosine_similarity\n",
        "\n",
        "import seaborn as sns"
      ]
    },
    {
      "cell_type": "markdown",
      "metadata": {
        "id": "qKscTRHcSVws"
      },
      "source": [
        "## Initial Dataset visualisation"
      ]
    },
    {
      "cell_type": "code",
      "execution_count": 3,
      "metadata": {
        "colab": {
          "base_uri": "https://localhost:8080/",
          "height": 90
        },
        "id": "SYlvR2KmM0Zn",
        "outputId": "3a5ca289-c262-443a-dcbb-48078e0bfff8"
      },
      "outputs": [
        {
          "output_type": "display_data",
          "data": {
            "text/plain": [
              "<IPython.core.display.HTML object>"
            ],
            "text/html": [
              "\n",
              "     <input type=\"file\" id=\"files-0d52e8d4-68b4-4429-afb2-63e1c616b0a7\" name=\"files[]\" multiple disabled\n",
              "        style=\"border:none\" />\n",
              "     <output id=\"result-0d52e8d4-68b4-4429-afb2-63e1c616b0a7\">\n",
              "      Upload widget is only available when the cell has been executed in the\n",
              "      current browser session. Please rerun this cell to enable.\n",
              "      </output>\n",
              "      <script>// Copyright 2017 Google LLC\n",
              "//\n",
              "// Licensed under the Apache License, Version 2.0 (the \"License\");\n",
              "// you may not use this file except in compliance with the License.\n",
              "// You may obtain a copy of the License at\n",
              "//\n",
              "//      http://www.apache.org/licenses/LICENSE-2.0\n",
              "//\n",
              "// Unless required by applicable law or agreed to in writing, software\n",
              "// distributed under the License is distributed on an \"AS IS\" BASIS,\n",
              "// WITHOUT WARRANTIES OR CONDITIONS OF ANY KIND, either express or implied.\n",
              "// See the License for the specific language governing permissions and\n",
              "// limitations under the License.\n",
              "\n",
              "/**\n",
              " * @fileoverview Helpers for google.colab Python module.\n",
              " */\n",
              "(function(scope) {\n",
              "function span(text, styleAttributes = {}) {\n",
              "  const element = document.createElement('span');\n",
              "  element.textContent = text;\n",
              "  for (const key of Object.keys(styleAttributes)) {\n",
              "    element.style[key] = styleAttributes[key];\n",
              "  }\n",
              "  return element;\n",
              "}\n",
              "\n",
              "// Max number of bytes which will be uploaded at a time.\n",
              "const MAX_PAYLOAD_SIZE = 100 * 1024;\n",
              "\n",
              "function _uploadFiles(inputId, outputId) {\n",
              "  const steps = uploadFilesStep(inputId, outputId);\n",
              "  const outputElement = document.getElementById(outputId);\n",
              "  // Cache steps on the outputElement to make it available for the next call\n",
              "  // to uploadFilesContinue from Python.\n",
              "  outputElement.steps = steps;\n",
              "\n",
              "  return _uploadFilesContinue(outputId);\n",
              "}\n",
              "\n",
              "// This is roughly an async generator (not supported in the browser yet),\n",
              "// where there are multiple asynchronous steps and the Python side is going\n",
              "// to poll for completion of each step.\n",
              "// This uses a Promise to block the python side on completion of each step,\n",
              "// then passes the result of the previous step as the input to the next step.\n",
              "function _uploadFilesContinue(outputId) {\n",
              "  const outputElement = document.getElementById(outputId);\n",
              "  const steps = outputElement.steps;\n",
              "\n",
              "  const next = steps.next(outputElement.lastPromiseValue);\n",
              "  return Promise.resolve(next.value.promise).then((value) => {\n",
              "    // Cache the last promise value to make it available to the next\n",
              "    // step of the generator.\n",
              "    outputElement.lastPromiseValue = value;\n",
              "    return next.value.response;\n",
              "  });\n",
              "}\n",
              "\n",
              "/**\n",
              " * Generator function which is called between each async step of the upload\n",
              " * process.\n",
              " * @param {string} inputId Element ID of the input file picker element.\n",
              " * @param {string} outputId Element ID of the output display.\n",
              " * @return {!Iterable<!Object>} Iterable of next steps.\n",
              " */\n",
              "function* uploadFilesStep(inputId, outputId) {\n",
              "  const inputElement = document.getElementById(inputId);\n",
              "  inputElement.disabled = false;\n",
              "\n",
              "  const outputElement = document.getElementById(outputId);\n",
              "  outputElement.innerHTML = '';\n",
              "\n",
              "  const pickedPromise = new Promise((resolve) => {\n",
              "    inputElement.addEventListener('change', (e) => {\n",
              "      resolve(e.target.files);\n",
              "    });\n",
              "  });\n",
              "\n",
              "  const cancel = document.createElement('button');\n",
              "  inputElement.parentElement.appendChild(cancel);\n",
              "  cancel.textContent = 'Cancel upload';\n",
              "  const cancelPromise = new Promise((resolve) => {\n",
              "    cancel.onclick = () => {\n",
              "      resolve(null);\n",
              "    };\n",
              "  });\n",
              "\n",
              "  // Wait for the user to pick the files.\n",
              "  const files = yield {\n",
              "    promise: Promise.race([pickedPromise, cancelPromise]),\n",
              "    response: {\n",
              "      action: 'starting',\n",
              "    }\n",
              "  };\n",
              "\n",
              "  cancel.remove();\n",
              "\n",
              "  // Disable the input element since further picks are not allowed.\n",
              "  inputElement.disabled = true;\n",
              "\n",
              "  if (!files) {\n",
              "    return {\n",
              "      response: {\n",
              "        action: 'complete',\n",
              "      }\n",
              "    };\n",
              "  }\n",
              "\n",
              "  for (const file of files) {\n",
              "    const li = document.createElement('li');\n",
              "    li.append(span(file.name, {fontWeight: 'bold'}));\n",
              "    li.append(span(\n",
              "        `(${file.type || 'n/a'}) - ${file.size} bytes, ` +\n",
              "        `last modified: ${\n",
              "            file.lastModifiedDate ? file.lastModifiedDate.toLocaleDateString() :\n",
              "                                    'n/a'} - `));\n",
              "    const percent = span('0% done');\n",
              "    li.appendChild(percent);\n",
              "\n",
              "    outputElement.appendChild(li);\n",
              "\n",
              "    const fileDataPromise = new Promise((resolve) => {\n",
              "      const reader = new FileReader();\n",
              "      reader.onload = (e) => {\n",
              "        resolve(e.target.result);\n",
              "      };\n",
              "      reader.readAsArrayBuffer(file);\n",
              "    });\n",
              "    // Wait for the data to be ready.\n",
              "    let fileData = yield {\n",
              "      promise: fileDataPromise,\n",
              "      response: {\n",
              "        action: 'continue',\n",
              "      }\n",
              "    };\n",
              "\n",
              "    // Use a chunked sending to avoid message size limits. See b/62115660.\n",
              "    let position = 0;\n",
              "    do {\n",
              "      const length = Math.min(fileData.byteLength - position, MAX_PAYLOAD_SIZE);\n",
              "      const chunk = new Uint8Array(fileData, position, length);\n",
              "      position += length;\n",
              "\n",
              "      const base64 = btoa(String.fromCharCode.apply(null, chunk));\n",
              "      yield {\n",
              "        response: {\n",
              "          action: 'append',\n",
              "          file: file.name,\n",
              "          data: base64,\n",
              "        },\n",
              "      };\n",
              "\n",
              "      let percentDone = fileData.byteLength === 0 ?\n",
              "          100 :\n",
              "          Math.round((position / fileData.byteLength) * 100);\n",
              "      percent.textContent = `${percentDone}% done`;\n",
              "\n",
              "    } while (position < fileData.byteLength);\n",
              "  }\n",
              "\n",
              "  // All done.\n",
              "  yield {\n",
              "    response: {\n",
              "      action: 'complete',\n",
              "    }\n",
              "  };\n",
              "}\n",
              "\n",
              "scope.google = scope.google || {};\n",
              "scope.google.colab = scope.google.colab || {};\n",
              "scope.google.colab._files = {\n",
              "  _uploadFiles,\n",
              "  _uploadFilesContinue,\n",
              "};\n",
              "})(self);\n",
              "</script> "
            ]
          },
          "metadata": {}
        },
        {
          "output_type": "stream",
          "name": "stdout",
          "text": [
            "Saving LadyAgri Database_Raw - CIV.xlsx to LadyAgri Database_Raw - CIV.xlsx\n"
          ]
        }
      ],
      "source": [
        "uploaded = files.upload()"
      ]
    },
    {
      "cell_type": "code",
      "execution_count": 4,
      "metadata": {
        "id": "ARDFyGw5M7k-",
        "colab": {
          "base_uri": "https://localhost:8080/",
          "height": 585
        },
        "outputId": "442590d8-8119-4415-c03f-f3b77f7787a7"
      },
      "outputs": [
        {
          "output_type": "execute_result",
          "data": {
            "text/plain": [
              "                   0                    1              2           3    \\\n",
              "0            StartDate              EndDate         Status   IPAddress   \n",
              "1           Start Date             End Date  Response Type  IP Address   \n",
              "2  2022-01-11 03:10:29  2022-01-11 03:24:05     IP Address         NaN   \n",
              "3  2022-01-11 02:23:56  2022-01-11 03:34:51     IP Address         NaN   \n",
              "4  2022-01-11 05:47:17  2022-01-11 06:02:18     IP Address         NaN   \n",
              "\n",
              "        4                      5         6                           7    \\\n",
              "0  Progress  Duration (in seconds)  Finished                RecordedDate   \n",
              "1  Progress  Duration (in seconds)  Finished               Recorded Date   \n",
              "2       100                    815      True  2022-01-11 03:24:05.468000   \n",
              "3       100                   4255      True  2022-01-11 03:34:52.094000   \n",
              "4       100                    901      True  2022-01-11 06:02:19.099000   \n",
              "\n",
              "                 8                    9    ...  \\\n",
              "0         ResponseId    RecipientLastName  ...   \n",
              "1        Response ID  Recipient Last Name  ...   \n",
              "2  R_1IL8qtNWhdv2yGf                  NaN  ...   \n",
              "3  R_2CHdOa6xzHbKAIJ                  NaN  ...   \n",
              "4  R_2YYcsoxWKmBVxLC                  NaN  ...   \n",
              "\n",
              "                                                 104  \\\n",
              "0                                                 F2   \n",
              "1  What is the percentage of women in supervisory...   \n",
              "2                                             51-60%   \n",
              "3                                             10-20%   \n",
              "4                                             71-80%   \n",
              "\n",
              "                                                 105  \\\n",
              "0                                                 F3   \n",
              "1  What is the percentage of women employees/memb...   \n",
              "2                                             51-60%   \n",
              "3                                             10-20%   \n",
              "4                                             51-60%   \n",
              "\n",
              "                                                 106  \\\n",
              "0                                                 F4   \n",
              "1  Do your employees receive health benefits and ...   \n",
              "2                                                 No   \n",
              "3                                                 No   \n",
              "4                                                Yes   \n",
              "\n",
              "                                          107  \\\n",
              "0                                          F5   \n",
              "1  What is the percentage of women suppliers?   \n",
              "2                                         NaN   \n",
              "3                                      10-20%   \n",
              "4                                      31-40%   \n",
              "\n",
              "                                                 108  \\\n",
              "0                                                 F6   \n",
              "1  Does the business specifically target/benefit ...   \n",
              "2                                       Yes, explain   \n",
              "3                                       Yes, explain   \n",
              "4                                                 No   \n",
              "\n",
              "                                                 109  \\\n",
              "0                                          F6_1_TEXT   \n",
              "1  Does the business specifically target/benefit ...   \n",
              "2  Ce sont les femmes qui en majorité font la tra...   \n",
              "3  Le commerce de l'attiéké et du placali est fai...   \n",
              "4                                                NaN   \n",
              "\n",
              "                                                 110  \\\n",
              "0                                                 F7   \n",
              "1  Does the business have a positive impact on th...   \n",
              "2                                                NaN   \n",
              "3                                       Yes, explain   \n",
              "4                                       Yes, explain   \n",
              "\n",
              "                                                 111  \\\n",
              "0                                          F7_1_TEXT   \n",
              "1  Does the business have a positive impact on th...   \n",
              "2                                                NaN   \n",
              "3  Notre activité comble le manque de produits su...   \n",
              "4  Elle achète au prix juste , accompagne certain...   \n",
              "\n",
              "                                                 112  \\\n",
              "0                                                 F8   \n",
              "1  Is your production model sustainable ? Explain...   \n",
              "2                                                NaN   \n",
              "3                                       Yes, explain   \n",
              "4                                       Yes, explain   \n",
              "\n",
              "                                                 113  \n",
              "0                                          F8_1_TEXT  \n",
              "1  Is your production model sustainable ? Explain...  \n",
              "2                                                NaN  \n",
              "3  Nous avons 10 hectares de terres pour produire...  \n",
              "4  Nous reutilisons les déchets issus de notre ac...  \n",
              "\n",
              "[5 rows x 114 columns]"
            ],
            "text/html": [
              "\n",
              "  <div id=\"df-29b5d366-5504-4d53-b77a-f07f495f2467\" class=\"colab-df-container\">\n",
              "    <div>\n",
              "<style scoped>\n",
              "    .dataframe tbody tr th:only-of-type {\n",
              "        vertical-align: middle;\n",
              "    }\n",
              "\n",
              "    .dataframe tbody tr th {\n",
              "        vertical-align: top;\n",
              "    }\n",
              "\n",
              "    .dataframe thead th {\n",
              "        text-align: right;\n",
              "    }\n",
              "</style>\n",
              "<table border=\"1\" class=\"dataframe\">\n",
              "  <thead>\n",
              "    <tr style=\"text-align: right;\">\n",
              "      <th></th>\n",
              "      <th>0</th>\n",
              "      <th>1</th>\n",
              "      <th>2</th>\n",
              "      <th>3</th>\n",
              "      <th>4</th>\n",
              "      <th>5</th>\n",
              "      <th>6</th>\n",
              "      <th>7</th>\n",
              "      <th>8</th>\n",
              "      <th>9</th>\n",
              "      <th>...</th>\n",
              "      <th>104</th>\n",
              "      <th>105</th>\n",
              "      <th>106</th>\n",
              "      <th>107</th>\n",
              "      <th>108</th>\n",
              "      <th>109</th>\n",
              "      <th>110</th>\n",
              "      <th>111</th>\n",
              "      <th>112</th>\n",
              "      <th>113</th>\n",
              "    </tr>\n",
              "  </thead>\n",
              "  <tbody>\n",
              "    <tr>\n",
              "      <th>0</th>\n",
              "      <td>StartDate</td>\n",
              "      <td>EndDate</td>\n",
              "      <td>Status</td>\n",
              "      <td>IPAddress</td>\n",
              "      <td>Progress</td>\n",
              "      <td>Duration (in seconds)</td>\n",
              "      <td>Finished</td>\n",
              "      <td>RecordedDate</td>\n",
              "      <td>ResponseId</td>\n",
              "      <td>RecipientLastName</td>\n",
              "      <td>...</td>\n",
              "      <td>F2</td>\n",
              "      <td>F3</td>\n",
              "      <td>F4</td>\n",
              "      <td>F5</td>\n",
              "      <td>F6</td>\n",
              "      <td>F6_1_TEXT</td>\n",
              "      <td>F7</td>\n",
              "      <td>F7_1_TEXT</td>\n",
              "      <td>F8</td>\n",
              "      <td>F8_1_TEXT</td>\n",
              "    </tr>\n",
              "    <tr>\n",
              "      <th>1</th>\n",
              "      <td>Start Date</td>\n",
              "      <td>End Date</td>\n",
              "      <td>Response Type</td>\n",
              "      <td>IP Address</td>\n",
              "      <td>Progress</td>\n",
              "      <td>Duration (in seconds)</td>\n",
              "      <td>Finished</td>\n",
              "      <td>Recorded Date</td>\n",
              "      <td>Response ID</td>\n",
              "      <td>Recipient Last Name</td>\n",
              "      <td>...</td>\n",
              "      <td>What is the percentage of women in supervisory...</td>\n",
              "      <td>What is the percentage of women employees/memb...</td>\n",
              "      <td>Do your employees receive health benefits and ...</td>\n",
              "      <td>What is the percentage of women suppliers?</td>\n",
              "      <td>Does the business specifically target/benefit ...</td>\n",
              "      <td>Does the business specifically target/benefit ...</td>\n",
              "      <td>Does the business have a positive impact on th...</td>\n",
              "      <td>Does the business have a positive impact on th...</td>\n",
              "      <td>Is your production model sustainable ? Explain...</td>\n",
              "      <td>Is your production model sustainable ? Explain...</td>\n",
              "    </tr>\n",
              "    <tr>\n",
              "      <th>2</th>\n",
              "      <td>2022-01-11 03:10:29</td>\n",
              "      <td>2022-01-11 03:24:05</td>\n",
              "      <td>IP Address</td>\n",
              "      <td>NaN</td>\n",
              "      <td>100</td>\n",
              "      <td>815</td>\n",
              "      <td>True</td>\n",
              "      <td>2022-01-11 03:24:05.468000</td>\n",
              "      <td>R_1IL8qtNWhdv2yGf</td>\n",
              "      <td>NaN</td>\n",
              "      <td>...</td>\n",
              "      <td>51-60%</td>\n",
              "      <td>51-60%</td>\n",
              "      <td>No</td>\n",
              "      <td>NaN</td>\n",
              "      <td>Yes, explain</td>\n",
              "      <td>Ce sont les femmes qui en majorité font la tra...</td>\n",
              "      <td>NaN</td>\n",
              "      <td>NaN</td>\n",
              "      <td>NaN</td>\n",
              "      <td>NaN</td>\n",
              "    </tr>\n",
              "    <tr>\n",
              "      <th>3</th>\n",
              "      <td>2022-01-11 02:23:56</td>\n",
              "      <td>2022-01-11 03:34:51</td>\n",
              "      <td>IP Address</td>\n",
              "      <td>NaN</td>\n",
              "      <td>100</td>\n",
              "      <td>4255</td>\n",
              "      <td>True</td>\n",
              "      <td>2022-01-11 03:34:52.094000</td>\n",
              "      <td>R_2CHdOa6xzHbKAIJ</td>\n",
              "      <td>NaN</td>\n",
              "      <td>...</td>\n",
              "      <td>10-20%</td>\n",
              "      <td>10-20%</td>\n",
              "      <td>No</td>\n",
              "      <td>10-20%</td>\n",
              "      <td>Yes, explain</td>\n",
              "      <td>Le commerce de l'attiéké et du placali est fai...</td>\n",
              "      <td>Yes, explain</td>\n",
              "      <td>Notre activité comble le manque de produits su...</td>\n",
              "      <td>Yes, explain</td>\n",
              "      <td>Nous avons 10 hectares de terres pour produire...</td>\n",
              "    </tr>\n",
              "    <tr>\n",
              "      <th>4</th>\n",
              "      <td>2022-01-11 05:47:17</td>\n",
              "      <td>2022-01-11 06:02:18</td>\n",
              "      <td>IP Address</td>\n",
              "      <td>NaN</td>\n",
              "      <td>100</td>\n",
              "      <td>901</td>\n",
              "      <td>True</td>\n",
              "      <td>2022-01-11 06:02:19.099000</td>\n",
              "      <td>R_2YYcsoxWKmBVxLC</td>\n",
              "      <td>NaN</td>\n",
              "      <td>...</td>\n",
              "      <td>71-80%</td>\n",
              "      <td>51-60%</td>\n",
              "      <td>Yes</td>\n",
              "      <td>31-40%</td>\n",
              "      <td>No</td>\n",
              "      <td>NaN</td>\n",
              "      <td>Yes, explain</td>\n",
              "      <td>Elle achète au prix juste , accompagne certain...</td>\n",
              "      <td>Yes, explain</td>\n",
              "      <td>Nous reutilisons les déchets issus de notre ac...</td>\n",
              "    </tr>\n",
              "  </tbody>\n",
              "</table>\n",
              "<p>5 rows × 114 columns</p>\n",
              "</div>\n",
              "    <div class=\"colab-df-buttons\">\n",
              "\n",
              "  <div class=\"colab-df-container\">\n",
              "    <button class=\"colab-df-convert\" onclick=\"convertToInteractive('df-29b5d366-5504-4d53-b77a-f07f495f2467')\"\n",
              "            title=\"Convert this dataframe to an interactive table.\"\n",
              "            style=\"display:none;\">\n",
              "\n",
              "  <svg xmlns=\"http://www.w3.org/2000/svg\" height=\"24px\" viewBox=\"0 -960 960 960\">\n",
              "    <path d=\"M120-120v-720h720v720H120Zm60-500h600v-160H180v160Zm220 220h160v-160H400v160Zm0 220h160v-160H400v160ZM180-400h160v-160H180v160Zm440 0h160v-160H620v160ZM180-180h160v-160H180v160Zm440 0h160v-160H620v160Z\"/>\n",
              "  </svg>\n",
              "    </button>\n",
              "\n",
              "  <style>\n",
              "    .colab-df-container {\n",
              "      display:flex;\n",
              "      gap: 12px;\n",
              "    }\n",
              "\n",
              "    .colab-df-convert {\n",
              "      background-color: #E8F0FE;\n",
              "      border: none;\n",
              "      border-radius: 50%;\n",
              "      cursor: pointer;\n",
              "      display: none;\n",
              "      fill: #1967D2;\n",
              "      height: 32px;\n",
              "      padding: 0 0 0 0;\n",
              "      width: 32px;\n",
              "    }\n",
              "\n",
              "    .colab-df-convert:hover {\n",
              "      background-color: #E2EBFA;\n",
              "      box-shadow: 0px 1px 2px rgba(60, 64, 67, 0.3), 0px 1px 3px 1px rgba(60, 64, 67, 0.15);\n",
              "      fill: #174EA6;\n",
              "    }\n",
              "\n",
              "    .colab-df-buttons div {\n",
              "      margin-bottom: 4px;\n",
              "    }\n",
              "\n",
              "    [theme=dark] .colab-df-convert {\n",
              "      background-color: #3B4455;\n",
              "      fill: #D2E3FC;\n",
              "    }\n",
              "\n",
              "    [theme=dark] .colab-df-convert:hover {\n",
              "      background-color: #434B5C;\n",
              "      box-shadow: 0px 1px 3px 1px rgba(0, 0, 0, 0.15);\n",
              "      filter: drop-shadow(0px 1px 2px rgba(0, 0, 0, 0.3));\n",
              "      fill: #FFFFFF;\n",
              "    }\n",
              "  </style>\n",
              "\n",
              "    <script>\n",
              "      const buttonEl =\n",
              "        document.querySelector('#df-29b5d366-5504-4d53-b77a-f07f495f2467 button.colab-df-convert');\n",
              "      buttonEl.style.display =\n",
              "        google.colab.kernel.accessAllowed ? 'block' : 'none';\n",
              "\n",
              "      async function convertToInteractive(key) {\n",
              "        const element = document.querySelector('#df-29b5d366-5504-4d53-b77a-f07f495f2467');\n",
              "        const dataTable =\n",
              "          await google.colab.kernel.invokeFunction('convertToInteractive',\n",
              "                                                    [key], {});\n",
              "        if (!dataTable) return;\n",
              "\n",
              "        const docLinkHtml = 'Like what you see? Visit the ' +\n",
              "          '<a target=\"_blank\" href=https://colab.research.google.com/notebooks/data_table.ipynb>data table notebook</a>'\n",
              "          + ' to learn more about interactive tables.';\n",
              "        element.innerHTML = '';\n",
              "        dataTable['output_type'] = 'display_data';\n",
              "        await google.colab.output.renderOutput(dataTable, element);\n",
              "        const docLink = document.createElement('div');\n",
              "        docLink.innerHTML = docLinkHtml;\n",
              "        element.appendChild(docLink);\n",
              "      }\n",
              "    </script>\n",
              "  </div>\n",
              "\n",
              "\n",
              "<div id=\"df-28a5a845-e6ca-42c2-a585-e798832b35d3\">\n",
              "  <button class=\"colab-df-quickchart\" onclick=\"quickchart('df-28a5a845-e6ca-42c2-a585-e798832b35d3')\"\n",
              "            title=\"Suggest charts.\"\n",
              "            style=\"display:none;\">\n",
              "\n",
              "<svg xmlns=\"http://www.w3.org/2000/svg\" height=\"24px\"viewBox=\"0 0 24 24\"\n",
              "     width=\"24px\">\n",
              "    <g>\n",
              "        <path d=\"M19 3H5c-1.1 0-2 .9-2 2v14c0 1.1.9 2 2 2h14c1.1 0 2-.9 2-2V5c0-1.1-.9-2-2-2zM9 17H7v-7h2v7zm4 0h-2V7h2v10zm4 0h-2v-4h2v4z\"/>\n",
              "    </g>\n",
              "</svg>\n",
              "  </button>\n",
              "\n",
              "<style>\n",
              "  .colab-df-quickchart {\n",
              "      --bg-color: #E8F0FE;\n",
              "      --fill-color: #1967D2;\n",
              "      --hover-bg-color: #E2EBFA;\n",
              "      --hover-fill-color: #174EA6;\n",
              "      --disabled-fill-color: #AAA;\n",
              "      --disabled-bg-color: #DDD;\n",
              "  }\n",
              "\n",
              "  [theme=dark] .colab-df-quickchart {\n",
              "      --bg-color: #3B4455;\n",
              "      --fill-color: #D2E3FC;\n",
              "      --hover-bg-color: #434B5C;\n",
              "      --hover-fill-color: #FFFFFF;\n",
              "      --disabled-bg-color: #3B4455;\n",
              "      --disabled-fill-color: #666;\n",
              "  }\n",
              "\n",
              "  .colab-df-quickchart {\n",
              "    background-color: var(--bg-color);\n",
              "    border: none;\n",
              "    border-radius: 50%;\n",
              "    cursor: pointer;\n",
              "    display: none;\n",
              "    fill: var(--fill-color);\n",
              "    height: 32px;\n",
              "    padding: 0;\n",
              "    width: 32px;\n",
              "  }\n",
              "\n",
              "  .colab-df-quickchart:hover {\n",
              "    background-color: var(--hover-bg-color);\n",
              "    box-shadow: 0 1px 2px rgba(60, 64, 67, 0.3), 0 1px 3px 1px rgba(60, 64, 67, 0.15);\n",
              "    fill: var(--button-hover-fill-color);\n",
              "  }\n",
              "\n",
              "  .colab-df-quickchart-complete:disabled,\n",
              "  .colab-df-quickchart-complete:disabled:hover {\n",
              "    background-color: var(--disabled-bg-color);\n",
              "    fill: var(--disabled-fill-color);\n",
              "    box-shadow: none;\n",
              "  }\n",
              "\n",
              "  .colab-df-spinner {\n",
              "    border: 2px solid var(--fill-color);\n",
              "    border-color: transparent;\n",
              "    border-bottom-color: var(--fill-color);\n",
              "    animation:\n",
              "      spin 1s steps(1) infinite;\n",
              "  }\n",
              "\n",
              "  @keyframes spin {\n",
              "    0% {\n",
              "      border-color: transparent;\n",
              "      border-bottom-color: var(--fill-color);\n",
              "      border-left-color: var(--fill-color);\n",
              "    }\n",
              "    20% {\n",
              "      border-color: transparent;\n",
              "      border-left-color: var(--fill-color);\n",
              "      border-top-color: var(--fill-color);\n",
              "    }\n",
              "    30% {\n",
              "      border-color: transparent;\n",
              "      border-left-color: var(--fill-color);\n",
              "      border-top-color: var(--fill-color);\n",
              "      border-right-color: var(--fill-color);\n",
              "    }\n",
              "    40% {\n",
              "      border-color: transparent;\n",
              "      border-right-color: var(--fill-color);\n",
              "      border-top-color: var(--fill-color);\n",
              "    }\n",
              "    60% {\n",
              "      border-color: transparent;\n",
              "      border-right-color: var(--fill-color);\n",
              "    }\n",
              "    80% {\n",
              "      border-color: transparent;\n",
              "      border-right-color: var(--fill-color);\n",
              "      border-bottom-color: var(--fill-color);\n",
              "    }\n",
              "    90% {\n",
              "      border-color: transparent;\n",
              "      border-bottom-color: var(--fill-color);\n",
              "    }\n",
              "  }\n",
              "</style>\n",
              "\n",
              "  <script>\n",
              "    async function quickchart(key) {\n",
              "      const quickchartButtonEl =\n",
              "        document.querySelector('#' + key + ' button');\n",
              "      quickchartButtonEl.disabled = true;  // To prevent multiple clicks.\n",
              "      quickchartButtonEl.classList.add('colab-df-spinner');\n",
              "      try {\n",
              "        const charts = await google.colab.kernel.invokeFunction(\n",
              "            'suggestCharts', [key], {});\n",
              "      } catch (error) {\n",
              "        console.error('Error during call to suggestCharts:', error);\n",
              "      }\n",
              "      quickchartButtonEl.classList.remove('colab-df-spinner');\n",
              "      quickchartButtonEl.classList.add('colab-df-quickchart-complete');\n",
              "    }\n",
              "    (() => {\n",
              "      let quickchartButtonEl =\n",
              "        document.querySelector('#df-28a5a845-e6ca-42c2-a585-e798832b35d3 button');\n",
              "      quickchartButtonEl.style.display =\n",
              "        google.colab.kernel.accessAllowed ? 'block' : 'none';\n",
              "    })();\n",
              "  </script>\n",
              "</div>\n",
              "    </div>\n",
              "  </div>\n"
            ]
          },
          "metadata": {},
          "execution_count": 4
        }
      ],
      "source": [
        "df_ladyAgri = pd.read_excel('LadyAgri Database_Raw - CIV.xlsx', header=None)\n",
        "df_ladyAgri.head()"
      ]
    },
    {
      "cell_type": "code",
      "execution_count": 5,
      "metadata": {
        "id": "g0TJY4N9Q49C",
        "colab": {
          "base_uri": "https://localhost:8080/",
          "height": 620
        },
        "outputId": "7455d10b-f7f0-4775-ee52-8e4f7f7a3d2c"
      },
      "outputs": [
        {
          "output_type": "execute_result",
          "data": {
            "text/plain": [
              "0       A4                      A5          A6              A9 A9_2_TEXT   B1  \\\n",
              "0   Single              University        1984   Côte d'Ivoire       NaN  NaN   \n",
              "1  Married  Professional training   29/12/1970  Other, specify   France   NaN   \n",
              "2   Single              University        1978   Côte d'Ivoire       NaN  NaN   \n",
              "3  Married              University        1991   Côte d'Ivoire       NaN  NaN   \n",
              "4   Single              University  17/12/1982   Côte d'Ivoire       NaN  NaN   \n",
              "\n",
              "0                    B2   B3   B4                   B5  ...             F2  \\\n",
              "0                 Other  NaN  NaN  Je suis producteur   ...         51-60%   \n",
              "1        Family-Led SME  NaN    8                    0  ...         10-20%   \n",
              "2                 Other  NaN  NaN                    1  ...         71-80%   \n",
              "3  Women’s association    28  NaN                   28  ...  More than 90%   \n",
              "4         Women-Led SME  NaN   06                   05  ...         71-80%   \n",
              "\n",
              "0             F3   F4             F5            F6  \\\n",
              "0         51-60%   No            NaN  Yes, explain   \n",
              "1         10-20%   No         10-20%  Yes, explain   \n",
              "2         51-60%  Yes         31-40%            No   \n",
              "3  Less than 10%   No  More than 90%  Yes, explain   \n",
              "4         71-80%   No         51-60%  Yes, explain   \n",
              "\n",
              "0                                          F6_1_TEXT            F7  \\\n",
              "0  Ce sont les femmes qui en majorité font la tra...           NaN   \n",
              "1  Le commerce de l'attiéké et du placali est fai...  Yes, explain   \n",
              "2                                                NaN  Yes, explain   \n",
              "3  Les femmes unissent leur force pour l'avanceme...  Yes, explain   \n",
              "4  1/ le manioc est vendu à des femmes productric...  Yes, explain   \n",
              "\n",
              "0                                          F7_1_TEXT            F8  \\\n",
              "0                                                NaN           NaN   \n",
              "1  Notre activité comble le manque de produits su...  Yes, explain   \n",
              "2  Elle achète au prix juste , accompagne certain...  Yes, explain   \n",
              "3    Elle accorde de l'attiéké à la cantine scolaire  Yes, explain   \n",
              "4                  Création d'emplois et de richesse  Yes, explain   \n",
              "\n",
              "0                                          F8_1_TEXT  \n",
              "0                                                NaN  \n",
              "1  Nous avons 10 hectares de terres pour produire...  \n",
              "2  Nous reutilisons les déchets issus de notre ac...  \n",
              "3        L'entreprise compte diversifier ses marchés  \n",
              "4  Nous produisons du manioc chaque année sur des...  \n",
              "\n",
              "[5 rows x 92 columns]"
            ],
            "text/html": [
              "\n",
              "  <div id=\"df-cdc51a9a-d320-4662-836c-4a7d416bbe4b\" class=\"colab-df-container\">\n",
              "    <div>\n",
              "<style scoped>\n",
              "    .dataframe tbody tr th:only-of-type {\n",
              "        vertical-align: middle;\n",
              "    }\n",
              "\n",
              "    .dataframe tbody tr th {\n",
              "        vertical-align: top;\n",
              "    }\n",
              "\n",
              "    .dataframe thead th {\n",
              "        text-align: right;\n",
              "    }\n",
              "</style>\n",
              "<table border=\"1\" class=\"dataframe\">\n",
              "  <thead>\n",
              "    <tr style=\"text-align: right;\">\n",
              "      <th></th>\n",
              "      <th>A4</th>\n",
              "      <th>A5</th>\n",
              "      <th>A6</th>\n",
              "      <th>A9</th>\n",
              "      <th>A9_2_TEXT</th>\n",
              "      <th>B1</th>\n",
              "      <th>B2</th>\n",
              "      <th>B3</th>\n",
              "      <th>B4</th>\n",
              "      <th>B5</th>\n",
              "      <th>...</th>\n",
              "      <th>F2</th>\n",
              "      <th>F3</th>\n",
              "      <th>F4</th>\n",
              "      <th>F5</th>\n",
              "      <th>F6</th>\n",
              "      <th>F6_1_TEXT</th>\n",
              "      <th>F7</th>\n",
              "      <th>F7_1_TEXT</th>\n",
              "      <th>F8</th>\n",
              "      <th>F8_1_TEXT</th>\n",
              "    </tr>\n",
              "  </thead>\n",
              "  <tbody>\n",
              "    <tr>\n",
              "      <th>0</th>\n",
              "      <td>Single</td>\n",
              "      <td>University</td>\n",
              "      <td>1984</td>\n",
              "      <td>Côte d'Ivoire</td>\n",
              "      <td>NaN</td>\n",
              "      <td>NaN</td>\n",
              "      <td>Other</td>\n",
              "      <td>NaN</td>\n",
              "      <td>NaN</td>\n",
              "      <td>Je suis producteur</td>\n",
              "      <td>...</td>\n",
              "      <td>51-60%</td>\n",
              "      <td>51-60%</td>\n",
              "      <td>No</td>\n",
              "      <td>NaN</td>\n",
              "      <td>Yes, explain</td>\n",
              "      <td>Ce sont les femmes qui en majorité font la tra...</td>\n",
              "      <td>NaN</td>\n",
              "      <td>NaN</td>\n",
              "      <td>NaN</td>\n",
              "      <td>NaN</td>\n",
              "    </tr>\n",
              "    <tr>\n",
              "      <th>1</th>\n",
              "      <td>Married</td>\n",
              "      <td>Professional training</td>\n",
              "      <td>29/12/1970</td>\n",
              "      <td>Other, specify</td>\n",
              "      <td>France</td>\n",
              "      <td>NaN</td>\n",
              "      <td>Family-Led SME</td>\n",
              "      <td>NaN</td>\n",
              "      <td>8</td>\n",
              "      <td>0</td>\n",
              "      <td>...</td>\n",
              "      <td>10-20%</td>\n",
              "      <td>10-20%</td>\n",
              "      <td>No</td>\n",
              "      <td>10-20%</td>\n",
              "      <td>Yes, explain</td>\n",
              "      <td>Le commerce de l'attiéké et du placali est fai...</td>\n",
              "      <td>Yes, explain</td>\n",
              "      <td>Notre activité comble le manque de produits su...</td>\n",
              "      <td>Yes, explain</td>\n",
              "      <td>Nous avons 10 hectares de terres pour produire...</td>\n",
              "    </tr>\n",
              "    <tr>\n",
              "      <th>2</th>\n",
              "      <td>Single</td>\n",
              "      <td>University</td>\n",
              "      <td>1978</td>\n",
              "      <td>Côte d'Ivoire</td>\n",
              "      <td>NaN</td>\n",
              "      <td>NaN</td>\n",
              "      <td>Other</td>\n",
              "      <td>NaN</td>\n",
              "      <td>NaN</td>\n",
              "      <td>1</td>\n",
              "      <td>...</td>\n",
              "      <td>71-80%</td>\n",
              "      <td>51-60%</td>\n",
              "      <td>Yes</td>\n",
              "      <td>31-40%</td>\n",
              "      <td>No</td>\n",
              "      <td>NaN</td>\n",
              "      <td>Yes, explain</td>\n",
              "      <td>Elle achète au prix juste , accompagne certain...</td>\n",
              "      <td>Yes, explain</td>\n",
              "      <td>Nous reutilisons les déchets issus de notre ac...</td>\n",
              "    </tr>\n",
              "    <tr>\n",
              "      <th>3</th>\n",
              "      <td>Married</td>\n",
              "      <td>University</td>\n",
              "      <td>1991</td>\n",
              "      <td>Côte d'Ivoire</td>\n",
              "      <td>NaN</td>\n",
              "      <td>NaN</td>\n",
              "      <td>Women’s association</td>\n",
              "      <td>28</td>\n",
              "      <td>NaN</td>\n",
              "      <td>28</td>\n",
              "      <td>...</td>\n",
              "      <td>More than 90%</td>\n",
              "      <td>Less than 10%</td>\n",
              "      <td>No</td>\n",
              "      <td>More than 90%</td>\n",
              "      <td>Yes, explain</td>\n",
              "      <td>Les femmes unissent leur force pour l'avanceme...</td>\n",
              "      <td>Yes, explain</td>\n",
              "      <td>Elle accorde de l'attiéké à la cantine scolaire</td>\n",
              "      <td>Yes, explain</td>\n",
              "      <td>L'entreprise compte diversifier ses marchés</td>\n",
              "    </tr>\n",
              "    <tr>\n",
              "      <th>4</th>\n",
              "      <td>Single</td>\n",
              "      <td>University</td>\n",
              "      <td>17/12/1982</td>\n",
              "      <td>Côte d'Ivoire</td>\n",
              "      <td>NaN</td>\n",
              "      <td>NaN</td>\n",
              "      <td>Women-Led SME</td>\n",
              "      <td>NaN</td>\n",
              "      <td>06</td>\n",
              "      <td>05</td>\n",
              "      <td>...</td>\n",
              "      <td>71-80%</td>\n",
              "      <td>71-80%</td>\n",
              "      <td>No</td>\n",
              "      <td>51-60%</td>\n",
              "      <td>Yes, explain</td>\n",
              "      <td>1/ le manioc est vendu à des femmes productric...</td>\n",
              "      <td>Yes, explain</td>\n",
              "      <td>Création d'emplois et de richesse</td>\n",
              "      <td>Yes, explain</td>\n",
              "      <td>Nous produisons du manioc chaque année sur des...</td>\n",
              "    </tr>\n",
              "  </tbody>\n",
              "</table>\n",
              "<p>5 rows × 92 columns</p>\n",
              "</div>\n",
              "    <div class=\"colab-df-buttons\">\n",
              "\n",
              "  <div class=\"colab-df-container\">\n",
              "    <button class=\"colab-df-convert\" onclick=\"convertToInteractive('df-cdc51a9a-d320-4662-836c-4a7d416bbe4b')\"\n",
              "            title=\"Convert this dataframe to an interactive table.\"\n",
              "            style=\"display:none;\">\n",
              "\n",
              "  <svg xmlns=\"http://www.w3.org/2000/svg\" height=\"24px\" viewBox=\"0 -960 960 960\">\n",
              "    <path d=\"M120-120v-720h720v720H120Zm60-500h600v-160H180v160Zm220 220h160v-160H400v160Zm0 220h160v-160H400v160ZM180-400h160v-160H180v160Zm440 0h160v-160H620v160ZM180-180h160v-160H180v160Zm440 0h160v-160H620v160Z\"/>\n",
              "  </svg>\n",
              "    </button>\n",
              "\n",
              "  <style>\n",
              "    .colab-df-container {\n",
              "      display:flex;\n",
              "      gap: 12px;\n",
              "    }\n",
              "\n",
              "    .colab-df-convert {\n",
              "      background-color: #E8F0FE;\n",
              "      border: none;\n",
              "      border-radius: 50%;\n",
              "      cursor: pointer;\n",
              "      display: none;\n",
              "      fill: #1967D2;\n",
              "      height: 32px;\n",
              "      padding: 0 0 0 0;\n",
              "      width: 32px;\n",
              "    }\n",
              "\n",
              "    .colab-df-convert:hover {\n",
              "      background-color: #E2EBFA;\n",
              "      box-shadow: 0px 1px 2px rgba(60, 64, 67, 0.3), 0px 1px 3px 1px rgba(60, 64, 67, 0.15);\n",
              "      fill: #174EA6;\n",
              "    }\n",
              "\n",
              "    .colab-df-buttons div {\n",
              "      margin-bottom: 4px;\n",
              "    }\n",
              "\n",
              "    [theme=dark] .colab-df-convert {\n",
              "      background-color: #3B4455;\n",
              "      fill: #D2E3FC;\n",
              "    }\n",
              "\n",
              "    [theme=dark] .colab-df-convert:hover {\n",
              "      background-color: #434B5C;\n",
              "      box-shadow: 0px 1px 3px 1px rgba(0, 0, 0, 0.15);\n",
              "      filter: drop-shadow(0px 1px 2px rgba(0, 0, 0, 0.3));\n",
              "      fill: #FFFFFF;\n",
              "    }\n",
              "  </style>\n",
              "\n",
              "    <script>\n",
              "      const buttonEl =\n",
              "        document.querySelector('#df-cdc51a9a-d320-4662-836c-4a7d416bbe4b button.colab-df-convert');\n",
              "      buttonEl.style.display =\n",
              "        google.colab.kernel.accessAllowed ? 'block' : 'none';\n",
              "\n",
              "      async function convertToInteractive(key) {\n",
              "        const element = document.querySelector('#df-cdc51a9a-d320-4662-836c-4a7d416bbe4b');\n",
              "        const dataTable =\n",
              "          await google.colab.kernel.invokeFunction('convertToInteractive',\n",
              "                                                    [key], {});\n",
              "        if (!dataTable) return;\n",
              "\n",
              "        const docLinkHtml = 'Like what you see? Visit the ' +\n",
              "          '<a target=\"_blank\" href=https://colab.research.google.com/notebooks/data_table.ipynb>data table notebook</a>'\n",
              "          + ' to learn more about interactive tables.';\n",
              "        element.innerHTML = '';\n",
              "        dataTable['output_type'] = 'display_data';\n",
              "        await google.colab.output.renderOutput(dataTable, element);\n",
              "        const docLink = document.createElement('div');\n",
              "        docLink.innerHTML = docLinkHtml;\n",
              "        element.appendChild(docLink);\n",
              "      }\n",
              "    </script>\n",
              "  </div>\n",
              "\n",
              "\n",
              "<div id=\"df-6781b58b-9cec-4d10-8d9d-cc98079e5a75\">\n",
              "  <button class=\"colab-df-quickchart\" onclick=\"quickchart('df-6781b58b-9cec-4d10-8d9d-cc98079e5a75')\"\n",
              "            title=\"Suggest charts.\"\n",
              "            style=\"display:none;\">\n",
              "\n",
              "<svg xmlns=\"http://www.w3.org/2000/svg\" height=\"24px\"viewBox=\"0 0 24 24\"\n",
              "     width=\"24px\">\n",
              "    <g>\n",
              "        <path d=\"M19 3H5c-1.1 0-2 .9-2 2v14c0 1.1.9 2 2 2h14c1.1 0 2-.9 2-2V5c0-1.1-.9-2-2-2zM9 17H7v-7h2v7zm4 0h-2V7h2v10zm4 0h-2v-4h2v4z\"/>\n",
              "    </g>\n",
              "</svg>\n",
              "  </button>\n",
              "\n",
              "<style>\n",
              "  .colab-df-quickchart {\n",
              "      --bg-color: #E8F0FE;\n",
              "      --fill-color: #1967D2;\n",
              "      --hover-bg-color: #E2EBFA;\n",
              "      --hover-fill-color: #174EA6;\n",
              "      --disabled-fill-color: #AAA;\n",
              "      --disabled-bg-color: #DDD;\n",
              "  }\n",
              "\n",
              "  [theme=dark] .colab-df-quickchart {\n",
              "      --bg-color: #3B4455;\n",
              "      --fill-color: #D2E3FC;\n",
              "      --hover-bg-color: #434B5C;\n",
              "      --hover-fill-color: #FFFFFF;\n",
              "      --disabled-bg-color: #3B4455;\n",
              "      --disabled-fill-color: #666;\n",
              "  }\n",
              "\n",
              "  .colab-df-quickchart {\n",
              "    background-color: var(--bg-color);\n",
              "    border: none;\n",
              "    border-radius: 50%;\n",
              "    cursor: pointer;\n",
              "    display: none;\n",
              "    fill: var(--fill-color);\n",
              "    height: 32px;\n",
              "    padding: 0;\n",
              "    width: 32px;\n",
              "  }\n",
              "\n",
              "  .colab-df-quickchart:hover {\n",
              "    background-color: var(--hover-bg-color);\n",
              "    box-shadow: 0 1px 2px rgba(60, 64, 67, 0.3), 0 1px 3px 1px rgba(60, 64, 67, 0.15);\n",
              "    fill: var(--button-hover-fill-color);\n",
              "  }\n",
              "\n",
              "  .colab-df-quickchart-complete:disabled,\n",
              "  .colab-df-quickchart-complete:disabled:hover {\n",
              "    background-color: var(--disabled-bg-color);\n",
              "    fill: var(--disabled-fill-color);\n",
              "    box-shadow: none;\n",
              "  }\n",
              "\n",
              "  .colab-df-spinner {\n",
              "    border: 2px solid var(--fill-color);\n",
              "    border-color: transparent;\n",
              "    border-bottom-color: var(--fill-color);\n",
              "    animation:\n",
              "      spin 1s steps(1) infinite;\n",
              "  }\n",
              "\n",
              "  @keyframes spin {\n",
              "    0% {\n",
              "      border-color: transparent;\n",
              "      border-bottom-color: var(--fill-color);\n",
              "      border-left-color: var(--fill-color);\n",
              "    }\n",
              "    20% {\n",
              "      border-color: transparent;\n",
              "      border-left-color: var(--fill-color);\n",
              "      border-top-color: var(--fill-color);\n",
              "    }\n",
              "    30% {\n",
              "      border-color: transparent;\n",
              "      border-left-color: var(--fill-color);\n",
              "      border-top-color: var(--fill-color);\n",
              "      border-right-color: var(--fill-color);\n",
              "    }\n",
              "    40% {\n",
              "      border-color: transparent;\n",
              "      border-right-color: var(--fill-color);\n",
              "      border-top-color: var(--fill-color);\n",
              "    }\n",
              "    60% {\n",
              "      border-color: transparent;\n",
              "      border-right-color: var(--fill-color);\n",
              "    }\n",
              "    80% {\n",
              "      border-color: transparent;\n",
              "      border-right-color: var(--fill-color);\n",
              "      border-bottom-color: var(--fill-color);\n",
              "    }\n",
              "    90% {\n",
              "      border-color: transparent;\n",
              "      border-bottom-color: var(--fill-color);\n",
              "    }\n",
              "  }\n",
              "</style>\n",
              "\n",
              "  <script>\n",
              "    async function quickchart(key) {\n",
              "      const quickchartButtonEl =\n",
              "        document.querySelector('#' + key + ' button');\n",
              "      quickchartButtonEl.disabled = true;  // To prevent multiple clicks.\n",
              "      quickchartButtonEl.classList.add('colab-df-spinner');\n",
              "      try {\n",
              "        const charts = await google.colab.kernel.invokeFunction(\n",
              "            'suggestCharts', [key], {});\n",
              "      } catch (error) {\n",
              "        console.error('Error during call to suggestCharts:', error);\n",
              "      }\n",
              "      quickchartButtonEl.classList.remove('colab-df-spinner');\n",
              "      quickchartButtonEl.classList.add('colab-df-quickchart-complete');\n",
              "    }\n",
              "    (() => {\n",
              "      let quickchartButtonEl =\n",
              "        document.querySelector('#df-6781b58b-9cec-4d10-8d9d-cc98079e5a75 button');\n",
              "      quickchartButtonEl.style.display =\n",
              "        google.colab.kernel.accessAllowed ? 'block' : 'none';\n",
              "    })();\n",
              "  </script>\n",
              "</div>\n",
              "    </div>\n",
              "  </div>\n"
            ]
          },
          "metadata": {},
          "execution_count": 5
        }
      ],
      "source": [
        "df = df_ladyAgri\n",
        "df.columns = df_ladyAgri.iloc[0]\n",
        "\n",
        "df = df[2:].reset_index(drop=True)\n",
        "\n",
        "columns_to_drop = list(range(0, 20)) + list(range(23, 25))\n",
        "\n",
        "df = df.drop(df.columns[columns_to_drop], axis=1)\n",
        "\n",
        "\n",
        "df.head()"
      ]
    },
    {
      "cell_type": "code",
      "execution_count": 6,
      "metadata": {
        "colab": {
          "base_uri": "https://localhost:8080/"
        },
        "id": "bHWNJwPuQQWG",
        "outputId": "159cc667-c757-4fd6-8dc0-8bc5013a0825"
      },
      "outputs": [
        {
          "output_type": "execute_result",
          "data": {
            "text/plain": [
              "0\n",
              "A4           object\n",
              "A5           object\n",
              "A6           object\n",
              "A9           object\n",
              "A9_2_TEXT    object\n",
              "              ...  \n",
              "F6_1_TEXT    object\n",
              "F7           object\n",
              "F7_1_TEXT    object\n",
              "F8           object\n",
              "F8_1_TEXT    object\n",
              "Length: 92, dtype: object"
            ]
          },
          "metadata": {},
          "execution_count": 6
        }
      ],
      "source": [
        "df.dtypes"
      ]
    },
    {
      "cell_type": "markdown",
      "metadata": {
        "id": "0y8WtnfLzouk"
      },
      "source": [
        "## Cleaning Data"
      ]
    },
    {
      "cell_type": "code",
      "source": [
        "categorical = ['A3', 'A4', 'A5', 'A9', 'A9_2_TEXT', 'B1', 'B2', 'B6', 'B7', 'B9', 'B9_9_TEXT', 'B10', 'B11',\n",
        "               'B12', 'B13', 'B14', 'B14_2_TEXT', 'B15', 'B15_1_TEXT', 'B17', 'B18', 'C4', 'D2', 'D3', 'D4',\n",
        "               'D5', 'D6', 'D7', 'D8', 'D12', 'D13', 'D14_NPS_GROUP', 'D14','E1', 'E2', 'E3', 'E3_6_TEXT',\n",
        "               'E4_NPS_GROUP', 'E4', 'E6', 'E6_1_TEXT', 'E7', 'E8', 'E9', 'F1', 'F2', 'F3', 'F4', 'F5', 'F6',\n",
        "               'F7', 'F8', 'D13_25_TEXT', 'D10']\n",
        "numerical = ['A6', 'B3', 'B4', 'B5', 'D9', 'B6_8_TEXT', 'B13_1_TEXT', 'B13_2_TEXT', 'B13_3_TEXT', 'B13_4_TEXT', 'B13_5_TEXT', 'B13_6_TEXT', 'B13_7_TEXT', 'D3_1_TEXT',\n",
        "             'D3_2_TEXT', 'D3_3_TEXT', 'D3_4_TEXT', 'D3_5_TEXT', 'D3_6_TEXT', 'D3_7_TEXT', 'D11_1_TEXT', 'D11_2_TEXT', 'D11_3_TEXT']\n",
        "potential_textbased = ['B8', 'B11_1_TEXT', 'B16', 'B17_1_TEXT', 'C1', 'C2', 'C3', 'C5', 'C6', 'D1', 'D15', 'E5',\n",
        "                       'F6_1_TEXT', 'F7_1_TEXT']\n",
        "cols_with_issues = ['D11']"
      ],
      "metadata": {
        "id": "7KAETl5sQfUg"
      },
      "execution_count": 7,
      "outputs": []
    },
    {
      "cell_type": "markdown",
      "source": [
        "## B3 & B4"
      ],
      "metadata": {
        "id": "--nV-sgMQK6N"
      }
    },
    {
      "cell_type": "code",
      "execution_count": 8,
      "metadata": {
        "colab": {
          "base_uri": "https://localhost:8080/"
        },
        "id": "krWaOEvx4pDN",
        "outputId": "3d1c712d-8be4-48b2-8b30-37a9be340568"
      },
      "outputs": [
        {
          "output_type": "execute_result",
          "data": {
            "text/plain": [
              "0       NaN\n",
              "1       8.0\n",
              "2       NaN\n",
              "3      28.0\n",
              "4       6.0\n",
              "       ... \n",
              "387     NaN\n",
              "388     NaN\n",
              "389     NaN\n",
              "390     NaN\n",
              "391     NaN\n",
              "Name: B3_B4_Combined, Length: 392, dtype: float64"
            ]
          },
          "metadata": {},
          "execution_count": 8
        }
      ],
      "source": [
        "df['B3_B4_Combined'] = df['B3_B4_Combined'] = (df['B3'].fillna('') + df['B4'].fillna('')).str.extract('(\\d+)', expand=False).astype(float)\n",
        "df = df.drop(columns = ['B3', 'B4'])\n",
        "df['B3_B4_Combined']"
      ]
    },
    {
      "cell_type": "code",
      "execution_count": 9,
      "metadata": {
        "id": "yU64QcYo03Xj",
        "colab": {
          "base_uri": "https://localhost:8080/"
        },
        "outputId": "5626f55e-230f-458f-b9e6-cada3bce79d3"
      },
      "outputs": [
        {
          "output_type": "execute_result",
          "data": {
            "text/plain": [
              "8.0"
            ]
          },
          "metadata": {},
          "execution_count": 9
        }
      ],
      "source": [
        "df['B3_B4_Combined'][21]"
      ]
    },
    {
      "cell_type": "markdown",
      "source": [
        "## B5"
      ],
      "metadata": {
        "id": "wbPqqAGAShA6"
      }
    },
    {
      "cell_type": "code",
      "source": [
        "df['B5'] = df['B5'].str.replace(r'[^1-9]', '', regex=True)\n",
        "df['B5'] = pd.to_numeric(df['B5'], errors='coerce')\n",
        "df['B5']"
      ],
      "metadata": {
        "colab": {
          "base_uri": "https://localhost:8080/"
        },
        "id": "0lYPR73oSmUr",
        "outputId": "4fd4495e-f9a6-4634-c36f-a09f8e7a77f8"
      },
      "execution_count": 10,
      "outputs": [
        {
          "output_type": "execute_result",
          "data": {
            "text/plain": [
              "0       NaN\n",
              "1       NaN\n",
              "2       1.0\n",
              "3      28.0\n",
              "4       5.0\n",
              "       ... \n",
              "387     NaN\n",
              "388     NaN\n",
              "389     NaN\n",
              "390     NaN\n",
              "391     NaN\n",
              "Name: B5, Length: 392, dtype: float64"
            ]
          },
          "metadata": {},
          "execution_count": 10
        }
      ]
    },
    {
      "cell_type": "markdown",
      "source": [
        "## B7"
      ],
      "metadata": {
        "id": "-Ryxt2a2dBBW"
      }
    },
    {
      "cell_type": "code",
      "source": [
        "data = df['B7'].unique().tolist()\n",
        "data = ['' if isinstance(val, float) and np.isnan(val) else val for val in data]\n",
        "\n",
        "unique_values = set()\n",
        "for row in data:\n",
        "    values = [v.strip() for v in row.split(',')]\n",
        "    unique_values.update(values)\n",
        "\n",
        "print(\"Unique values:\")\n",
        "for val in unique_values:\n",
        "    print(val)"
      ],
      "metadata": {
        "colab": {
          "base_uri": "https://localhost:8080/"
        },
        "id": "iau0wbcKdGM-",
        "outputId": "2267fa6e-b670-4428-a79d-1ad1241ddae8"
      },
      "execution_count": 11,
      "outputs": [
        {
          "output_type": "stream",
          "name": "stdout",
          "text": [
            "Unique values:\n",
            "\n",
            "Production\n",
            "Distribution\n",
            "Agri-Services - Inputs supply\n",
            "Processing\n",
            "Logistics/ Transport\n",
            "Aggregation (group buying for reselling)\n"
          ]
        }
      ]
    },
    {
      "cell_type": "code",
      "source": [
        "categories = [\n",
        "    'Distribution',\n",
        "    'Logistics/ Transport',\n",
        "    'Production',\n",
        "    'Aggregation (group buying for reselling)',\n",
        "    'Processing',\n",
        "    'Agri-Services - Inputs supply'\n",
        "]\n",
        "\n",
        "df['B7'] = df['B7'].apply(lambda x: '' if isinstance(x, float) and np.isnan(x) else x)\n",
        "\n",
        "for category in categories:\n",
        "    df[category] = 0\n",
        "\n",
        "for index, row in df.iterrows():\n",
        "    if pd.notna(row['B7']):\n",
        "        for category in categories:\n",
        "            if category in row['B7']:\n",
        "                df.at[index, category] = 1\n",
        "\n",
        "df.drop('B7', axis=1, inplace=True)\n",
        "\n",
        "df.head()"
      ],
      "metadata": {
        "colab": {
          "base_uri": "https://localhost:8080/",
          "height": 689
        },
        "id": "ZWnaoa2vdfC1",
        "outputId": "bae056f3-795c-415a-c72a-eec5da918b4d"
      },
      "execution_count": 12,
      "outputs": [
        {
          "output_type": "execute_result",
          "data": {
            "text/plain": [
              "0       A4                      A5          A6              A9 A9_2_TEXT   B1  \\\n",
              "0   Single              University        1984   Côte d'Ivoire       NaN  NaN   \n",
              "1  Married  Professional training   29/12/1970  Other, specify   France   NaN   \n",
              "2   Single              University        1978   Côte d'Ivoire       NaN  NaN   \n",
              "3  Married              University        1991   Côte d'Ivoire       NaN  NaN   \n",
              "4   Single              University  17/12/1982   Côte d'Ivoire       NaN  NaN   \n",
              "\n",
              "0                    B2    B5                            B6 B6_8_TEXT  ...  \\\n",
              "0                 Other   NaN  Between 6 months and a year        NaN  ...   \n",
              "1        Family-Led SME   NaN  Between 6 months and a year        NaN  ...   \n",
              "2                 Other   1.0           Less than 3 months        NaN  ...   \n",
              "3  Women’s association   28.0          More than 3, specify     5 ans  ...   \n",
              "4         Women-Led SME   5.0           Less than 3 months        NaN  ...   \n",
              "\n",
              "0                                          F7_1_TEXT            F8  \\\n",
              "0                                                NaN           NaN   \n",
              "1  Notre activité comble le manque de produits su...  Yes, explain   \n",
              "2  Elle achète au prix juste , accompagne certain...  Yes, explain   \n",
              "3    Elle accorde de l'attiéké à la cantine scolaire  Yes, explain   \n",
              "4                  Création d'emplois et de richesse  Yes, explain   \n",
              "\n",
              "0                                          F8_1_TEXT B3_B4_Combined  \\\n",
              "0                                                NaN            NaN   \n",
              "1  Nous avons 10 hectares de terres pour produire...            8.0   \n",
              "2  Nous reutilisons les déchets issus de notre ac...            NaN   \n",
              "3        L'entreprise compte diversifier ses marchés           28.0   \n",
              "4  Nous produisons du manioc chaque année sur des...            6.0   \n",
              "\n",
              "0 Distribution Logistics/ Transport Production  \\\n",
              "0            0                    0          1   \n",
              "1            1                    0          1   \n",
              "2            0                    0          1   \n",
              "3            0                    0          0   \n",
              "4            1                    0          0   \n",
              "\n",
              "0 Aggregation (group buying for reselling) Processing  \\\n",
              "0                                        0          0   \n",
              "1                                        0          1   \n",
              "2                                        0          1   \n",
              "3                                        0          1   \n",
              "4                                        0          0   \n",
              "\n",
              "0 Agri-Services - Inputs supply  \n",
              "0                             0  \n",
              "1                             0  \n",
              "2                             0  \n",
              "3                             0  \n",
              "4                             0  \n",
              "\n",
              "[5 rows x 96 columns]"
            ],
            "text/html": [
              "\n",
              "  <div id=\"df-ab3f9512-88eb-43a0-b6cf-b3172af44bd5\" class=\"colab-df-container\">\n",
              "    <div>\n",
              "<style scoped>\n",
              "    .dataframe tbody tr th:only-of-type {\n",
              "        vertical-align: middle;\n",
              "    }\n",
              "\n",
              "    .dataframe tbody tr th {\n",
              "        vertical-align: top;\n",
              "    }\n",
              "\n",
              "    .dataframe thead th {\n",
              "        text-align: right;\n",
              "    }\n",
              "</style>\n",
              "<table border=\"1\" class=\"dataframe\">\n",
              "  <thead>\n",
              "    <tr style=\"text-align: right;\">\n",
              "      <th></th>\n",
              "      <th>A4</th>\n",
              "      <th>A5</th>\n",
              "      <th>A6</th>\n",
              "      <th>A9</th>\n",
              "      <th>A9_2_TEXT</th>\n",
              "      <th>B1</th>\n",
              "      <th>B2</th>\n",
              "      <th>B5</th>\n",
              "      <th>B6</th>\n",
              "      <th>B6_8_TEXT</th>\n",
              "      <th>...</th>\n",
              "      <th>F7_1_TEXT</th>\n",
              "      <th>F8</th>\n",
              "      <th>F8_1_TEXT</th>\n",
              "      <th>B3_B4_Combined</th>\n",
              "      <th>Distribution</th>\n",
              "      <th>Logistics/ Transport</th>\n",
              "      <th>Production</th>\n",
              "      <th>Aggregation (group buying for reselling)</th>\n",
              "      <th>Processing</th>\n",
              "      <th>Agri-Services - Inputs supply</th>\n",
              "    </tr>\n",
              "  </thead>\n",
              "  <tbody>\n",
              "    <tr>\n",
              "      <th>0</th>\n",
              "      <td>Single</td>\n",
              "      <td>University</td>\n",
              "      <td>1984</td>\n",
              "      <td>Côte d'Ivoire</td>\n",
              "      <td>NaN</td>\n",
              "      <td>NaN</td>\n",
              "      <td>Other</td>\n",
              "      <td>NaN</td>\n",
              "      <td>Between 6 months and a year</td>\n",
              "      <td>NaN</td>\n",
              "      <td>...</td>\n",
              "      <td>NaN</td>\n",
              "      <td>NaN</td>\n",
              "      <td>NaN</td>\n",
              "      <td>NaN</td>\n",
              "      <td>0</td>\n",
              "      <td>0</td>\n",
              "      <td>1</td>\n",
              "      <td>0</td>\n",
              "      <td>0</td>\n",
              "      <td>0</td>\n",
              "    </tr>\n",
              "    <tr>\n",
              "      <th>1</th>\n",
              "      <td>Married</td>\n",
              "      <td>Professional training</td>\n",
              "      <td>29/12/1970</td>\n",
              "      <td>Other, specify</td>\n",
              "      <td>France</td>\n",
              "      <td>NaN</td>\n",
              "      <td>Family-Led SME</td>\n",
              "      <td>NaN</td>\n",
              "      <td>Between 6 months and a year</td>\n",
              "      <td>NaN</td>\n",
              "      <td>...</td>\n",
              "      <td>Notre activité comble le manque de produits su...</td>\n",
              "      <td>Yes, explain</td>\n",
              "      <td>Nous avons 10 hectares de terres pour produire...</td>\n",
              "      <td>8.0</td>\n",
              "      <td>1</td>\n",
              "      <td>0</td>\n",
              "      <td>1</td>\n",
              "      <td>0</td>\n",
              "      <td>1</td>\n",
              "      <td>0</td>\n",
              "    </tr>\n",
              "    <tr>\n",
              "      <th>2</th>\n",
              "      <td>Single</td>\n",
              "      <td>University</td>\n",
              "      <td>1978</td>\n",
              "      <td>Côte d'Ivoire</td>\n",
              "      <td>NaN</td>\n",
              "      <td>NaN</td>\n",
              "      <td>Other</td>\n",
              "      <td>1.0</td>\n",
              "      <td>Less than 3 months</td>\n",
              "      <td>NaN</td>\n",
              "      <td>...</td>\n",
              "      <td>Elle achète au prix juste , accompagne certain...</td>\n",
              "      <td>Yes, explain</td>\n",
              "      <td>Nous reutilisons les déchets issus de notre ac...</td>\n",
              "      <td>NaN</td>\n",
              "      <td>0</td>\n",
              "      <td>0</td>\n",
              "      <td>1</td>\n",
              "      <td>0</td>\n",
              "      <td>1</td>\n",
              "      <td>0</td>\n",
              "    </tr>\n",
              "    <tr>\n",
              "      <th>3</th>\n",
              "      <td>Married</td>\n",
              "      <td>University</td>\n",
              "      <td>1991</td>\n",
              "      <td>Côte d'Ivoire</td>\n",
              "      <td>NaN</td>\n",
              "      <td>NaN</td>\n",
              "      <td>Women’s association</td>\n",
              "      <td>28.0</td>\n",
              "      <td>More than 3, specify</td>\n",
              "      <td>5 ans</td>\n",
              "      <td>...</td>\n",
              "      <td>Elle accorde de l'attiéké à la cantine scolaire</td>\n",
              "      <td>Yes, explain</td>\n",
              "      <td>L'entreprise compte diversifier ses marchés</td>\n",
              "      <td>28.0</td>\n",
              "      <td>0</td>\n",
              "      <td>0</td>\n",
              "      <td>0</td>\n",
              "      <td>0</td>\n",
              "      <td>1</td>\n",
              "      <td>0</td>\n",
              "    </tr>\n",
              "    <tr>\n",
              "      <th>4</th>\n",
              "      <td>Single</td>\n",
              "      <td>University</td>\n",
              "      <td>17/12/1982</td>\n",
              "      <td>Côte d'Ivoire</td>\n",
              "      <td>NaN</td>\n",
              "      <td>NaN</td>\n",
              "      <td>Women-Led SME</td>\n",
              "      <td>5.0</td>\n",
              "      <td>Less than 3 months</td>\n",
              "      <td>NaN</td>\n",
              "      <td>...</td>\n",
              "      <td>Création d'emplois et de richesse</td>\n",
              "      <td>Yes, explain</td>\n",
              "      <td>Nous produisons du manioc chaque année sur des...</td>\n",
              "      <td>6.0</td>\n",
              "      <td>1</td>\n",
              "      <td>0</td>\n",
              "      <td>0</td>\n",
              "      <td>0</td>\n",
              "      <td>0</td>\n",
              "      <td>0</td>\n",
              "    </tr>\n",
              "  </tbody>\n",
              "</table>\n",
              "<p>5 rows × 96 columns</p>\n",
              "</div>\n",
              "    <div class=\"colab-df-buttons\">\n",
              "\n",
              "  <div class=\"colab-df-container\">\n",
              "    <button class=\"colab-df-convert\" onclick=\"convertToInteractive('df-ab3f9512-88eb-43a0-b6cf-b3172af44bd5')\"\n",
              "            title=\"Convert this dataframe to an interactive table.\"\n",
              "            style=\"display:none;\">\n",
              "\n",
              "  <svg xmlns=\"http://www.w3.org/2000/svg\" height=\"24px\" viewBox=\"0 -960 960 960\">\n",
              "    <path d=\"M120-120v-720h720v720H120Zm60-500h600v-160H180v160Zm220 220h160v-160H400v160Zm0 220h160v-160H400v160ZM180-400h160v-160H180v160Zm440 0h160v-160H620v160ZM180-180h160v-160H180v160Zm440 0h160v-160H620v160Z\"/>\n",
              "  </svg>\n",
              "    </button>\n",
              "\n",
              "  <style>\n",
              "    .colab-df-container {\n",
              "      display:flex;\n",
              "      gap: 12px;\n",
              "    }\n",
              "\n",
              "    .colab-df-convert {\n",
              "      background-color: #E8F0FE;\n",
              "      border: none;\n",
              "      border-radius: 50%;\n",
              "      cursor: pointer;\n",
              "      display: none;\n",
              "      fill: #1967D2;\n",
              "      height: 32px;\n",
              "      padding: 0 0 0 0;\n",
              "      width: 32px;\n",
              "    }\n",
              "\n",
              "    .colab-df-convert:hover {\n",
              "      background-color: #E2EBFA;\n",
              "      box-shadow: 0px 1px 2px rgba(60, 64, 67, 0.3), 0px 1px 3px 1px rgba(60, 64, 67, 0.15);\n",
              "      fill: #174EA6;\n",
              "    }\n",
              "\n",
              "    .colab-df-buttons div {\n",
              "      margin-bottom: 4px;\n",
              "    }\n",
              "\n",
              "    [theme=dark] .colab-df-convert {\n",
              "      background-color: #3B4455;\n",
              "      fill: #D2E3FC;\n",
              "    }\n",
              "\n",
              "    [theme=dark] .colab-df-convert:hover {\n",
              "      background-color: #434B5C;\n",
              "      box-shadow: 0px 1px 3px 1px rgba(0, 0, 0, 0.15);\n",
              "      filter: drop-shadow(0px 1px 2px rgba(0, 0, 0, 0.3));\n",
              "      fill: #FFFFFF;\n",
              "    }\n",
              "  </style>\n",
              "\n",
              "    <script>\n",
              "      const buttonEl =\n",
              "        document.querySelector('#df-ab3f9512-88eb-43a0-b6cf-b3172af44bd5 button.colab-df-convert');\n",
              "      buttonEl.style.display =\n",
              "        google.colab.kernel.accessAllowed ? 'block' : 'none';\n",
              "\n",
              "      async function convertToInteractive(key) {\n",
              "        const element = document.querySelector('#df-ab3f9512-88eb-43a0-b6cf-b3172af44bd5');\n",
              "        const dataTable =\n",
              "          await google.colab.kernel.invokeFunction('convertToInteractive',\n",
              "                                                    [key], {});\n",
              "        if (!dataTable) return;\n",
              "\n",
              "        const docLinkHtml = 'Like what you see? Visit the ' +\n",
              "          '<a target=\"_blank\" href=https://colab.research.google.com/notebooks/data_table.ipynb>data table notebook</a>'\n",
              "          + ' to learn more about interactive tables.';\n",
              "        element.innerHTML = '';\n",
              "        dataTable['output_type'] = 'display_data';\n",
              "        await google.colab.output.renderOutput(dataTable, element);\n",
              "        const docLink = document.createElement('div');\n",
              "        docLink.innerHTML = docLinkHtml;\n",
              "        element.appendChild(docLink);\n",
              "      }\n",
              "    </script>\n",
              "  </div>\n",
              "\n",
              "\n",
              "<div id=\"df-91476f7b-cee6-4614-b5ee-036c4e95c462\">\n",
              "  <button class=\"colab-df-quickchart\" onclick=\"quickchart('df-91476f7b-cee6-4614-b5ee-036c4e95c462')\"\n",
              "            title=\"Suggest charts.\"\n",
              "            style=\"display:none;\">\n",
              "\n",
              "<svg xmlns=\"http://www.w3.org/2000/svg\" height=\"24px\"viewBox=\"0 0 24 24\"\n",
              "     width=\"24px\">\n",
              "    <g>\n",
              "        <path d=\"M19 3H5c-1.1 0-2 .9-2 2v14c0 1.1.9 2 2 2h14c1.1 0 2-.9 2-2V5c0-1.1-.9-2-2-2zM9 17H7v-7h2v7zm4 0h-2V7h2v10zm4 0h-2v-4h2v4z\"/>\n",
              "    </g>\n",
              "</svg>\n",
              "  </button>\n",
              "\n",
              "<style>\n",
              "  .colab-df-quickchart {\n",
              "      --bg-color: #E8F0FE;\n",
              "      --fill-color: #1967D2;\n",
              "      --hover-bg-color: #E2EBFA;\n",
              "      --hover-fill-color: #174EA6;\n",
              "      --disabled-fill-color: #AAA;\n",
              "      --disabled-bg-color: #DDD;\n",
              "  }\n",
              "\n",
              "  [theme=dark] .colab-df-quickchart {\n",
              "      --bg-color: #3B4455;\n",
              "      --fill-color: #D2E3FC;\n",
              "      --hover-bg-color: #434B5C;\n",
              "      --hover-fill-color: #FFFFFF;\n",
              "      --disabled-bg-color: #3B4455;\n",
              "      --disabled-fill-color: #666;\n",
              "  }\n",
              "\n",
              "  .colab-df-quickchart {\n",
              "    background-color: var(--bg-color);\n",
              "    border: none;\n",
              "    border-radius: 50%;\n",
              "    cursor: pointer;\n",
              "    display: none;\n",
              "    fill: var(--fill-color);\n",
              "    height: 32px;\n",
              "    padding: 0;\n",
              "    width: 32px;\n",
              "  }\n",
              "\n",
              "  .colab-df-quickchart:hover {\n",
              "    background-color: var(--hover-bg-color);\n",
              "    box-shadow: 0 1px 2px rgba(60, 64, 67, 0.3), 0 1px 3px 1px rgba(60, 64, 67, 0.15);\n",
              "    fill: var(--button-hover-fill-color);\n",
              "  }\n",
              "\n",
              "  .colab-df-quickchart-complete:disabled,\n",
              "  .colab-df-quickchart-complete:disabled:hover {\n",
              "    background-color: var(--disabled-bg-color);\n",
              "    fill: var(--disabled-fill-color);\n",
              "    box-shadow: none;\n",
              "  }\n",
              "\n",
              "  .colab-df-spinner {\n",
              "    border: 2px solid var(--fill-color);\n",
              "    border-color: transparent;\n",
              "    border-bottom-color: var(--fill-color);\n",
              "    animation:\n",
              "      spin 1s steps(1) infinite;\n",
              "  }\n",
              "\n",
              "  @keyframes spin {\n",
              "    0% {\n",
              "      border-color: transparent;\n",
              "      border-bottom-color: var(--fill-color);\n",
              "      border-left-color: var(--fill-color);\n",
              "    }\n",
              "    20% {\n",
              "      border-color: transparent;\n",
              "      border-left-color: var(--fill-color);\n",
              "      border-top-color: var(--fill-color);\n",
              "    }\n",
              "    30% {\n",
              "      border-color: transparent;\n",
              "      border-left-color: var(--fill-color);\n",
              "      border-top-color: var(--fill-color);\n",
              "      border-right-color: var(--fill-color);\n",
              "    }\n",
              "    40% {\n",
              "      border-color: transparent;\n",
              "      border-right-color: var(--fill-color);\n",
              "      border-top-color: var(--fill-color);\n",
              "    }\n",
              "    60% {\n",
              "      border-color: transparent;\n",
              "      border-right-color: var(--fill-color);\n",
              "    }\n",
              "    80% {\n",
              "      border-color: transparent;\n",
              "      border-right-color: var(--fill-color);\n",
              "      border-bottom-color: var(--fill-color);\n",
              "    }\n",
              "    90% {\n",
              "      border-color: transparent;\n",
              "      border-bottom-color: var(--fill-color);\n",
              "    }\n",
              "  }\n",
              "</style>\n",
              "\n",
              "  <script>\n",
              "    async function quickchart(key) {\n",
              "      const quickchartButtonEl =\n",
              "        document.querySelector('#' + key + ' button');\n",
              "      quickchartButtonEl.disabled = true;  // To prevent multiple clicks.\n",
              "      quickchartButtonEl.classList.add('colab-df-spinner');\n",
              "      try {\n",
              "        const charts = await google.colab.kernel.invokeFunction(\n",
              "            'suggestCharts', [key], {});\n",
              "      } catch (error) {\n",
              "        console.error('Error during call to suggestCharts:', error);\n",
              "      }\n",
              "      quickchartButtonEl.classList.remove('colab-df-spinner');\n",
              "      quickchartButtonEl.classList.add('colab-df-quickchart-complete');\n",
              "    }\n",
              "    (() => {\n",
              "      let quickchartButtonEl =\n",
              "        document.querySelector('#df-91476f7b-cee6-4614-b5ee-036c4e95c462 button');\n",
              "      quickchartButtonEl.style.display =\n",
              "        google.colab.kernel.accessAllowed ? 'block' : 'none';\n",
              "    })();\n",
              "  </script>\n",
              "</div>\n",
              "    </div>\n",
              "  </div>\n"
            ]
          },
          "metadata": {},
          "execution_count": 12
        }
      ]
    },
    {
      "cell_type": "markdown",
      "source": [
        "## B13"
      ],
      "metadata": {
        "id": "_pcGEajPlN8_"
      }
    },
    {
      "cell_type": "code",
      "execution_count": 13,
      "metadata": {
        "id": "acxgQnjz987j",
        "colab": {
          "base_uri": "https://localhost:8080/"
        },
        "outputId": "19f80516-a74c-4392-e232-05a807b6b316"
      },
      "outputs": [
        {
          "output_type": "execute_result",
          "data": {
            "text/plain": [
              "800000.0"
            ]
          },
          "metadata": {},
          "execution_count": 13
        }
      ],
      "source": [
        "df['B13_Combined'] = df[['B13_1_TEXT', 'B13_2_TEXT', 'B13_3_TEXT', 'B13_4_TEXT', 'B13_5_TEXT', 'B13_6_TEXT', 'B13_7_TEXT']].fillna('').sum(axis=1)\n",
        "\n",
        "df['B13_Combined'] = df['B13_Combined'].str.replace('millions', '000000', case=False)\n",
        "df['B13_Combined'] = df['B13_Combined'].str.replace(',', '.')\n",
        "\n",
        "def clean_and_convert(value):\n",
        "    cleaned_value = re.sub(r'[^0-9]', '', str(value))\n",
        "    if cleaned_value:\n",
        "        return float(cleaned_value)\n",
        "    else:\n",
        "        return None\n",
        "\n",
        "\n",
        "df['B13_Combined'] = df['B13_Combined'].apply(clean_and_convert)\n",
        "\n",
        "df['B13_Combined'] = df['B13_Combined'].apply(lambda x: x * 100000 if x < 10 else x)\n",
        "\n",
        "df = df.drop(columns=['B13_1_TEXT', 'B13_2_TEXT', 'B13_3_TEXT', 'B13_4_TEXT', 'B13_5_TEXT', 'B13_6_TEXT', 'B13_7_TEXT'])\n",
        "df['B13_Combined'][167]\n"
      ]
    },
    {
      "cell_type": "code",
      "source": [
        "df['B13_Combined'].isna().sum()"
      ],
      "metadata": {
        "colab": {
          "base_uri": "https://localhost:8080/"
        },
        "id": "VOHdDEJgloq2",
        "outputId": "dfc0218d-eadc-4268-e7f1-62c76f45314c"
      },
      "execution_count": 14,
      "outputs": [
        {
          "output_type": "execute_result",
          "data": {
            "text/plain": [
              "208"
            ]
          },
          "metadata": {},
          "execution_count": 14
        }
      ]
    },
    {
      "cell_type": "markdown",
      "source": [
        "## D3_1,2,3,4,5,6,7_TEXT"
      ],
      "metadata": {
        "id": "moiqzJA2mGq9"
      }
    },
    {
      "cell_type": "code",
      "source": [
        "df['D3_Combined'] = df[['D3_1_TEXT', 'D3_2_TEXT', 'D3_3_TEXT', 'D3_4_TEXT', 'D3_5_TEXT', 'D3_6_TEXT', 'D3_7_TEXT']].fillna('').sum(axis=1)\n",
        "df['D3_Combined'] = df['D3_Combined'].str.replace(r' millions', '000000', case=False)\n",
        "df['D3_Combined'] = df['D3_Combined'].str.replace(r'[^0-9]', '')\n",
        "\n",
        "df['D3_Combined'] = pd.to_numeric(df['D3_Combined'], errors='coerce')\n",
        "\n",
        "df = df.drop(columns=['D3_1_TEXT', 'D3_2_TEXT', 'D3_3_TEXT', 'D3_4_TEXT', 'D3_5_TEXT', 'D3_6_TEXT', 'D3_7_TEXT'])\n",
        "df['D3_Combined']"
      ],
      "metadata": {
        "colab": {
          "base_uri": "https://localhost:8080/"
        },
        "id": "2zqKBzmlltSZ",
        "outputId": "e5c6c42c-0758-479b-aa64-08f735a83d80"
      },
      "execution_count": 15,
      "outputs": [
        {
          "output_type": "stream",
          "name": "stderr",
          "text": [
            "<ipython-input-15-338f74c39e5b>:3: FutureWarning: The default value of regex will change from True to False in a future version.\n",
            "  df['D3_Combined'] = df['D3_Combined'].str.replace(r'[^0-9]', '')\n"
          ]
        },
        {
          "output_type": "execute_result",
          "data": {
            "text/plain": [
              "0            NaN\n",
              "1            NaN\n",
              "2            NaN\n",
              "3      5000000.0\n",
              "4            NaN\n",
              "         ...    \n",
              "387          NaN\n",
              "388          NaN\n",
              "389          NaN\n",
              "390          NaN\n",
              "391          NaN\n",
              "Name: D3_Combined, Length: 392, dtype: float64"
            ]
          },
          "metadata": {},
          "execution_count": 15
        }
      ]
    },
    {
      "cell_type": "markdown",
      "source": [
        "## B1"
      ],
      "metadata": {
        "id": "7_vwfOXoUULe"
      }
    },
    {
      "cell_type": "code",
      "source": [
        "df = df.drop(columns = ['B1'])"
      ],
      "metadata": {
        "id": "RjGuLgbRKhDb"
      },
      "execution_count": 16,
      "outputs": []
    },
    {
      "cell_type": "markdown",
      "source": [
        "## B6_8_TEXT"
      ],
      "metadata": {
        "id": "3w_5AeN4K3MS"
      }
    },
    {
      "cell_type": "code",
      "source": [
        "def transform_value(value):\n",
        "    if pd.notnull(value):\n",
        "        value = ''.join(filter(str.isdigit, str(value)))\n",
        "        if value and len(value) >= 4:\n",
        "            try:\n",
        "                value = str(datetime.now().year - int(value[-4:]))\n",
        "            except ValueError:\n",
        "                pass\n",
        "    return value\n",
        "\n",
        "df['B6_8_TEXT'] = df['B6_8_TEXT'].apply(transform_value)\n",
        "df['B6_8_TEXT'] = pd.to_numeric(df['B6_8_TEXT'], errors='coerce')\n",
        "df['B6_8_TEXT']"
      ],
      "metadata": {
        "id": "c1zBXi0sK7hz",
        "colab": {
          "base_uri": "https://localhost:8080/"
        },
        "outputId": "29f93f60-b330-41d4-b191-e1dbc1ee6dee"
      },
      "execution_count": 17,
      "outputs": [
        {
          "output_type": "execute_result",
          "data": {
            "text/plain": [
              "0      NaN\n",
              "1      NaN\n",
              "2      NaN\n",
              "3      5.0\n",
              "4      NaN\n",
              "      ... \n",
              "387    NaN\n",
              "388    NaN\n",
              "389    NaN\n",
              "390    NaN\n",
              "391    NaN\n",
              "Name: B6_8_TEXT, Length: 392, dtype: float64"
            ]
          },
          "metadata": {},
          "execution_count": 17
        }
      ]
    },
    {
      "cell_type": "markdown",
      "source": [
        "## B9_TEXT & B11_1_TEXT"
      ],
      "metadata": {
        "id": "oWdQJPb6L7Cv"
      }
    },
    {
      "cell_type": "code",
      "source": [
        "df['B11_1_TEXT'] = np.nan"
      ],
      "metadata": {
        "id": "uArb90uMOZ-r"
      },
      "execution_count": 18,
      "outputs": []
    },
    {
      "cell_type": "markdown",
      "source": [
        "## B14 & B14_2_TEXT"
      ],
      "metadata": {
        "id": "U2Blke5nPUJs"
      }
    },
    {
      "cell_type": "code",
      "source": [
        "def replace_text(row):\n",
        "    if row['B14'] is not None and row['B14'] != 'Other, specify':\n",
        "        return row['B14']\n",
        "    else:\n",
        "        return row['B14_2_TEXT']\n",
        "\n",
        "df['B14'] = df.apply(replace_text, axis=1)\n",
        "\n",
        "# Optionally, drop the column 'B4' if you no longer need it\n",
        "df = df.drop(columns=['B14_2_TEXT'])\n",
        "\n",
        "print(df['B14'])\n"
      ],
      "metadata": {
        "colab": {
          "base_uri": "https://localhost:8080/"
        },
        "id": "yrzuWTOLOmld",
        "outputId": "ca5bad8a-308f-44a5-c58b-eb6210c6ee50"
      },
      "execution_count": 19,
      "outputs": [
        {
          "output_type": "stream",
          "name": "stdout",
          "text": [
            "0      Cassava\n",
            "1      Cassava\n",
            "2      Cassava\n",
            "3      Cassava\n",
            "4      Cassava\n",
            "        ...   \n",
            "387        NaN\n",
            "388        NaN\n",
            "389        NaN\n",
            "390        NaN\n",
            "391        NaN\n",
            "Name: B14, Length: 392, dtype: object\n"
          ]
        }
      ]
    },
    {
      "cell_type": "code",
      "source": [
        "df['B14'][30]"
      ],
      "metadata": {
        "colab": {
          "base_uri": "https://localhost:8080/",
          "height": 35
        },
        "id": "pjXq6ZrxPt5i",
        "outputId": "335ec2f6-0990-4cf9-c658-f59fe4ece909"
      },
      "execution_count": 20,
      "outputs": [
        {
          "output_type": "execute_result",
          "data": {
            "text/plain": [
              "'Cacao'"
            ],
            "application/vnd.google.colaboratory.intrinsic+json": {
              "type": "string"
            }
          },
          "metadata": {},
          "execution_count": 20
        }
      ]
    },
    {
      "cell_type": "markdown",
      "source": [
        "## B15_1_TEXT"
      ],
      "metadata": {
        "id": "Uw8LZf03Qr9v"
      }
    },
    {
      "cell_type": "code",
      "source": [
        "def nltk_words(i):\n",
        "    nltk.download('punkt')\n",
        "    nltk.download('stopwords')\n",
        "    nltk.download('wordnet')\n",
        "    stop_words = set(stopwords.words('french'))\n",
        "    common_verbs = ['a', '-', ',', 'être', 'avoir', 'faire', 'aller', 'pouvoir', 'vouloir', 'savoir', 'voir', 'venir', 'devoir', 'prendre', 'donner', 'trouver', 'dire', 'mettre', 'falloir', 'laisser', 'passer', 'aimer', 'comprendre', 'partir']\n",
        "\n",
        "    for verb in common_verbs:\n",
        "        stop_words.add(verb)\n",
        "\n",
        "    lemmatizer = WordNetLemmatizer()\n",
        "\n",
        "    def remove_stopwords_numbers_punct(text):\n",
        "        if isinstance(text, str):\n",
        "            # Remove punctuation\n",
        "            text = re.sub(r'[^\\w\\s]', '', text)\n",
        "            # Tokenize and lemmatize\n",
        "            words = [lemmatizer.lemmatize(word) for word in word_tokenize(text.lower())]\n",
        "            # Remove stopwords, numbers, single characters, and return the result\n",
        "            return [word for word in words if word not in stop_words and not word.isnumeric() and len(word) >= 5]\n",
        "        else:\n",
        "            return []\n",
        "\n",
        "    df['cleaned_text'] = df[i].apply(lambda x: remove_stopwords_numbers_punct(x) if pd.notnull(x) else [])\n",
        "\n",
        "    # Step 2: Frequency Analysis\n",
        "    all_words = [word for text in df['cleaned_text'] for word in text if len(word) >= 4]\n",
        "    freq_dist = FreqDist(all_words)\n",
        "    print(freq_dist.most_common(10))  # Print the 10 most common words\n",
        "\n",
        "    # Step 3: TF-IDF\n",
        "    tfidf_vectorizer = TfidfVectorizer()\n",
        "    print(i)\n",
        "    tfidf_matrix = tfidf_vectorizer.fit_transform([\" \".join(text) for text in df['cleaned_text']])\n",
        "    feature_names = tfidf_vectorizer.get_feature_names_out()\n",
        "\n",
        "    # Step 4: Topic Modeling (LDA)\n",
        "    lda = LatentDirichletAllocation(n_components=5, random_state=42)\n",
        "    lda.fit(tfidf_matrix)\n",
        "\n",
        "    # Step 5: Replace similar words\n",
        "    def replace_similar_words(row):\n",
        "      cleaned_text = row['cleaned_text']\n",
        "      for i, word in enumerate(cleaned_text):\n",
        "          # Check if the word is similar to any TF-IDF term\n",
        "          similar_words = [term for term in feature_names if abs(cosine_similarity(tfidf_vectorizer.transform([word]), tfidf_vectorizer.transform([term]))[0][0]) > 0.5]\n",
        "          if similar_words:\n",
        "              cleaned_text[i] = similar_words[0]  # Replace with the most similar term\n",
        "      return cleaned_text\n",
        "\n",
        "    df['cleaned_text'] = df.apply(replace_similar_words, axis=1)\n",
        "    df[i] = df['cleaned_text']\n",
        "    df.drop(columns=['cleaned_text'])\n",
        "    # Step 6: Visualization\n",
        "    freq_dist.plot(50, cumulative=False)\n",
        "    plt.show()\n"
      ],
      "metadata": {
        "id": "G9OEkXyjQrP2"
      },
      "execution_count": 21,
      "outputs": []
    },
    {
      "cell_type": "code",
      "source": [
        "nltk_words('B15_1_TEXT')"
      ],
      "metadata": {
        "colab": {
          "base_uri": "https://localhost:8080/",
          "height": 679
        },
        "id": "5BGVzoKHSRma",
        "outputId": "789cc3b0-9e4b-4cb1-f299-f1181fb58bc2"
      },
      "execution_count": 22,
      "outputs": [
        {
          "output_type": "stream",
          "name": "stderr",
          "text": [
            "[nltk_data] Downloading package punkt to /root/nltk_data...\n",
            "[nltk_data]   Package punkt is already up-to-date!\n",
            "[nltk_data] Downloading package stopwords to /root/nltk_data...\n",
            "[nltk_data]   Package stopwords is already up-to-date!\n",
            "[nltk_data] Downloading package wordnet to /root/nltk_data...\n"
          ]
        },
        {
          "output_type": "stream",
          "name": "stdout",
          "text": [
            "[('banane', 33), ('piment', 25), ('culture', 21), ('aubergine', 17), ('gombo', 17), ('manioc', 15), ('tomate', 12), ('cacao', 11), ('produisons', 10), ('production', 9)]\n",
            "B15_1_TEXT\n"
          ]
        },
        {
          "output_type": "display_data",
          "data": {
            "text/plain": [
              "<Figure size 640x480 with 1 Axes>"
            ],
            "image/png": "[encoded data removed]"
          },
          "metadata": {}
        }
      ]
    },
    {
      "cell_type": "code",
      "source": [
        "df['B15_1_TEXT'] = df['B15_1_TEXT'].apply(lambda x: x[0] if len(x) >= 1 else None)\n",
        "df['B15_1_TEXT']"
      ],
      "metadata": {
        "colab": {
          "base_uri": "https://localhost:8080/"
        },
        "id": "KBhNO7U_Se6o",
        "outputId": "aa1e526c-80ff-400a-c09c-4779801edd34"
      },
      "execution_count": 23,
      "outputs": [
        {
          "output_type": "execute_result",
          "data": {
            "text/plain": [
              "0         None\n",
              "1         None\n",
              "2        cacao\n",
              "3       manioc\n",
              "4      vivrier\n",
              "        ...   \n",
              "387       None\n",
              "388       None\n",
              "389       None\n",
              "390       None\n",
              "391       None\n",
              "Name: B15_1_TEXT, Length: 392, dtype: object"
            ]
          },
          "metadata": {},
          "execution_count": 23
        }
      ]
    },
    {
      "cell_type": "markdown",
      "source": [
        "## B17_1_TEXT"
      ],
      "metadata": {
        "id": "aFm1DvFQTq9e"
      }
    },
    {
      "cell_type": "code",
      "source": [
        "# Assuming df is your DataFrame and the column is named 'column_name'\n",
        "df['Temp'] = df['B17_1_TEXT'].apply(lambda x: 'SARL' if isinstance(x, str) and 'sarl' in x.lower() else x)\n",
        "df['Temp'] = df['Temp'].apply(lambda x: 'Societe Cooperative' if isinstance(x, str) and 'coop' in x.lower() else x)\n",
        "df['B17_1_TEXT'] = df['Temp']\n",
        "df = df.drop(columns = ['Temp'])"
      ],
      "metadata": {
        "id": "aoytCgrfTqMs"
      },
      "execution_count": 24,
      "outputs": []
    },
    {
      "cell_type": "code",
      "source": [
        "df['B17_1_TEXT'].isna().sum()"
      ],
      "metadata": {
        "colab": {
          "base_uri": "https://localhost:8080/"
        },
        "id": "bXozsjgxT0ri",
        "outputId": "a61de066-c81c-4b65-d67b-3669d1da8592"
      },
      "execution_count": 25,
      "outputs": [
        {
          "output_type": "execute_result",
          "data": {
            "text/plain": [
              "152"
            ]
          },
          "metadata": {},
          "execution_count": 25
        }
      ]
    },
    {
      "cell_type": "markdown",
      "source": [
        "## D1"
      ],
      "metadata": {
        "id": "V82s-AEbT-lr"
      }
    },
    {
      "cell_type": "code",
      "source": [
        "df = df.drop(columns = ['D1'])"
      ],
      "metadata": {
        "id": "QuD8mfpRT-AW"
      },
      "execution_count": 26,
      "outputs": []
    },
    {
      "cell_type": "markdown",
      "source": [
        "## D9, D10, D11, D11_1TEXT, D11_2_TEXT, D11_3_TEXT"
      ],
      "metadata": {
        "id": "X3l6j2rBUXmH"
      }
    },
    {
      "cell_type": "code",
      "source": [
        "def convert_values(val):\n",
        "    if val is not None and val != '' and isinstance(val, str):\n",
        "      if 'millions' in val and 'milles' in val:\n",
        "            return int(val) * 1000000\n",
        "      elif 'millions' in val:\n",
        "            return int(''.join(filter(str.isdigit, val))) * 1000000\n",
        "      elif 'milles' in val:\n",
        "            return int(''.join(filter(str.isdigit, val))) * 1000\n",
        "      else:\n",
        "            # Assuming the non-matching values are integers\n",
        "            return val\n",
        "df['D9'] = df['D9'].apply(convert_values)"
      ],
      "metadata": {
        "id": "eHSbmfR0UGb0"
      },
      "execution_count": 27,
      "outputs": []
    },
    {
      "cell_type": "code",
      "source": [
        "df['D9'][139]"
      ],
      "metadata": {
        "colab": {
          "base_uri": "https://localhost:8080/"
        },
        "id": "js4V4LVzliRd",
        "outputId": "b68447b9-3246-4081-ee03-5be84f167e9d"
      },
      "execution_count": 28,
      "outputs": [
        {
          "output_type": "execute_result",
          "data": {
            "text/plain": [
              "2500000000"
            ]
          },
          "metadata": {},
          "execution_count": 28
        }
      ]
    },
    {
      "cell_type": "code",
      "source": [
        "df['D11_1_TEXT'] = df['D11_1_TEXT'].str.replace(r'[^0-9]', '')\n",
        "df['D11_1_TEXT'] = pd.to_numeric(df['D11_1_TEXT'], errors='coerce')\n",
        "\n",
        "df['D11_1_TEXT'] = df['D11_1_TEXT'].astype('Int64')\n",
        "df['D11_1_TEXT'][139]"
      ],
      "metadata": {
        "colab": {
          "base_uri": "https://localhost:8080/"
        },
        "id": "wl-2usojq1u6",
        "outputId": "e0bf5e0e-d419-4b15-f1ef-a734d00b566b"
      },
      "execution_count": 29,
      "outputs": [
        {
          "output_type": "stream",
          "name": "stderr",
          "text": [
            "<ipython-input-29-abbecb53ad98>:1: FutureWarning: The default value of regex will change from True to False in a future version.\n",
            "  df['D11_1_TEXT'] = df['D11_1_TEXT'].str.replace(r'[^0-9]', '')\n"
          ]
        },
        {
          "output_type": "execute_result",
          "data": {
            "text/plain": [
              "18"
            ]
          },
          "metadata": {},
          "execution_count": 29
        }
      ]
    },
    {
      "cell_type": "markdown",
      "source": [
        "## D13_25_TEXT"
      ],
      "metadata": {
        "id": "EUNvRr8U7whP"
      }
    },
    {
      "cell_type": "code",
      "source": [
        "def replace_text(row):\n",
        "    if row['D13'] is not None and row['D13'] != 'Other : specify':\n",
        "        return row['D13']\n",
        "    else:\n",
        "        return row['D13_25_TEXT']\n",
        "\n",
        "df['D13'] = df.apply(replace_text, axis=1)\n",
        "\n",
        "# Optionally, drop the column 'B4' if you no longer need it\n",
        "df = df.drop(columns=['D13_25_TEXT'])\n",
        "\n",
        "print(df['D13'])\n"
      ],
      "metadata": {
        "colab": {
          "base_uri": "https://localhost:8080/"
        },
        "id": "9opVBAFbq4vz",
        "outputId": "ba857740-619a-434c-bf43-493d33969627"
      },
      "execution_count": 30,
      "outputs": [
        {
          "output_type": "stream",
          "name": "stdout",
          "text": [
            "0      COOPEC \n",
            "1      Cofina \n",
            "2          SIB\n",
            "3      COOPEC \n",
            "4       BICICI\n",
            "        ...   \n",
            "387        NaN\n",
            "388        NaN\n",
            "389        NaN\n",
            "390        NaN\n",
            "391        NaN\n",
            "Name: D13, Length: 392, dtype: object\n"
          ]
        }
      ]
    },
    {
      "cell_type": "markdown",
      "source": [
        "## E6"
      ],
      "metadata": {
        "id": "3eU1zqNE76Vc"
      }
    },
    {
      "cell_type": "code",
      "source": [
        "def replace_text(row):\n",
        "    if row['E6'] is not None and row['E6'] != 'Yes, specify':\n",
        "        return row['E6']\n",
        "    else:\n",
        "        return row['E6_1_TEXT']\n",
        "\n",
        "df['E6'] = df.apply(replace_text, axis=1)\n",
        "\n",
        "# Optionally, drop the column 'B4' if you no longer need it\n",
        "df = df.drop(columns=['E6_1_TEXT'])\n",
        "\n",
        "print(df['E6'])\n"
      ],
      "metadata": {
        "colab": {
          "base_uri": "https://localhost:8080/"
        },
        "id": "pxhT4J0R4IPG",
        "outputId": "c04311a9-7d97-40af-b8df-4976ff452765"
      },
      "execution_count": 31,
      "outputs": [
        {
          "output_type": "stream",
          "name": "stdout",
          "text": [
            "0       No\n",
            "1      NaN\n",
            "2       No\n",
            "3       No\n",
            "4      NaN\n",
            "      ... \n",
            "387    NaN\n",
            "388    NaN\n",
            "389    NaN\n",
            "390    NaN\n",
            "391    NaN\n",
            "Name: E6, Length: 392, dtype: object\n"
          ]
        }
      ]
    },
    {
      "cell_type": "markdown",
      "source": [
        "## B16"
      ],
      "metadata": {
        "id": "P81WzQ-79RiM"
      }
    },
    {
      "cell_type": "code",
      "source": [
        "nltk_words(i = 'B16')"
      ],
      "metadata": {
        "colab": {
          "base_uri": "https://localhost:8080/",
          "height": 704
        },
        "id": "3qIPuGGQ9FDI",
        "outputId": "d160ec2d-9a9c-4b1c-98e6-61c54166e0da"
      },
      "execution_count": 32,
      "outputs": [
        {
          "output_type": "stream",
          "name": "stderr",
          "text": [
            "[nltk_data] Downloading package punkt to /root/nltk_data...\n",
            "[nltk_data]   Package punkt is already up-to-date!\n",
            "[nltk_data] Downloading package stopwords to /root/nltk_data...\n",
            "[nltk_data]   Package stopwords is already up-to-date!\n",
            "[nltk_data] Downloading package wordnet to /root/nltk_data...\n",
            "[nltk_data]   Package wordnet is already up-to-date!\n"
          ]
        },
        {
          "output_type": "stream",
          "name": "stdout",
          "text": [
            "[('présidente', 83), ('directrice', 48), ('président', 33), ('directeur', 29), ('responsable', 27), ('lassociation', 20), ('presidente', 18), ('gestion', 15), ('comité', 13), ('coopérative', 12)]\n",
            "B16\n"
          ]
        },
        {
          "output_type": "display_data",
          "data": {
            "text/plain": [
              "<Figure size 640x480 with 1 Axes>"
            ],
            "image/png": "[encoded data removed]"
          },
          "metadata": {}
        }
      ]
    },
    {
      "cell_type": "code",
      "source": [
        "df['B16'] = df['B16'].apply(lambda x: x[0] if len(x) >= 1 else None)\n",
        "df['B16']"
      ],
      "metadata": {
        "colab": {
          "base_uri": "https://localhost:8080/"
        },
        "id": "_FyobUnH9UHd",
        "outputId": "5454ea30-258e-472c-f78c-294edcdfc50f"
      },
      "execution_count": 33,
      "outputs": [
        {
          "output_type": "execute_result",
          "data": {
            "text/plain": [
              "0           membre\n",
              "1      responsable\n",
              "2      responsable\n",
              "3       directrice\n",
              "4        coopérant\n",
              "          ...     \n",
              "387           None\n",
              "388           None\n",
              "389           None\n",
              "390           None\n",
              "391           None\n",
              "Name: B16, Length: 392, dtype: object"
            ]
          },
          "metadata": {},
          "execution_count": 33
        }
      ]
    },
    {
      "cell_type": "markdown",
      "source": [
        "## D3"
      ],
      "metadata": {
        "id": "TjwAKR10-FnF"
      }
    },
    {
      "cell_type": "code",
      "source": [
        "df = df.drop(columns = ['F6_1_TEXT'])"
      ],
      "metadata": {
        "id": "M-X11DdI9nEp"
      },
      "execution_count": 34,
      "outputs": []
    },
    {
      "cell_type": "code",
      "source": [
        "df = df.drop(columns = ['cleaned_text'])"
      ],
      "metadata": {
        "id": "5VYLJ4gfBHXO"
      },
      "execution_count": 35,
      "outputs": []
    },
    {
      "cell_type": "code",
      "source": [
        "df.to_csv('LadyAgri_Dataset.csv')"
      ],
      "metadata": {
        "id": "4ppiKTAD9Xch"
      },
      "execution_count": 36,
      "outputs": []
    },
    {
      "cell_type": "code",
      "source": [],
      "metadata": {
        "id": "vMwzK1XqCcYJ"
      },
      "execution_count": 36,
      "outputs": []
    }
  ],
  "metadata": {
    "colab": {
      "provenance": []
    },
    "kernelspec": {
      "display_name": "Python 3",
      "name": "python3"
    },
    "language_info": {
      "name": "python"
    }
  },
  "nbformat": 4,
  "nbformat_minor": 0
}